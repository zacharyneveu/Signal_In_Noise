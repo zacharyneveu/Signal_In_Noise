{
 "cells": [
  {
   "cell_type": "markdown",
   "metadata": {},
   "source": [
    "# Homework 7: DOA Estimation"
   ]
  },
  {
   "cell_type": "markdown",
   "metadata": {},
   "source": [
    "Detecting the direction from which a signal arrived can be very useful. This is what allows Alexa to focus on what you're saying even in noisy environments, and gives you better WiFi signal when multiple devices are connected.\n",
    "\n",
    "In this assignment, a signal is received at each sensor in a linear array of 16 sensors. The form of the signal is known to be $r = Acos(2\\pi f_0 t + \\phi_0)$, and the distance between the sensors is known. White, Gaussian, IID noise has been added to the signal at each sensor. Prior to receiving the data, each sample has been integrated over a 1ns period so that the input data for this assignment is $y_m = \\frac{1}{T_0} \\int_0^{T_0} r_m(t)e^{-j2\\pi f_0t}dt$ for each sensor, $0 \\rightarrow M-1$. This processing brings the signal to baseband where it is easier to process.\n",
    "\n",
    "The angle of arrival of the signal will manifest itself as the delay between each sensor. To find this delay, one can then run a search over angles from -90 to 90 degrees (line arrays have bilateral symmetry). For each angle, a vector of delays, s, is created using:\n",
    "$$ s_k = e^{-jk\\Delta \\phi}$$\n",
    "$$ \\Delta \\phi = 2\\pi f_0 \\frac{d sin(\\theta)}{c} $$\n",
    "\n",
    "How well this vector of delays matches the observed signal can be calculated as $|s'Y|$. After performing the search, the angle with the highest value of $|s'Y|$ is chosen as the optimal angle of arrival.\n",
    "\n",
    "Applying this algorithm to the provided data yields a predicted angle of arrival of 20°. Comparing the signal generated at this angle to the given data shows a good visual correlation. Testing the detector with generated signals from -90 to 90 degrees, the detector finds the correct angle for all cases."
   ]
  },
  {
   "cell_type": "code",
   "execution_count": 14,
   "metadata": {},
   "outputs": [],
   "source": [
    "pkg load mapping"
   ]
  },
  {
   "cell_type": "code",
   "execution_count": 161,
   "metadata": {},
   "outputs": [],
   "source": [
    "f0 = 3e9;\n",
    "d = 0.05;\n",
    "c = 3e8;"
   ]
  },
  {
   "cell_type": "markdown",
   "metadata": {},
   "source": [
    "## Note\n",
    "Using the corrected numbers from the email, I still got the wrong numbers. Plugging in $d=5$ yields $d/\\lambda = 50$. In order to get the correct answer, I needed to plug in d=0.05, yielding $d / \\lambda = 0.5$"
   ]
  },
  {
   "cell_type": "code",
   "execution_count": 163,
   "metadata": {},
   "outputs": [
    {
     "name": "stdout",
     "output_type": "stream",
     "text": [
      "dlamb =  0.50000\n"
     ]
    }
   ],
   "source": [
    "lambda = c/f0;\n",
    "dlamb = .05/lambda"
   ]
  },
  {
   "cell_type": "code",
   "execution_count": 18,
   "metadata": {},
   "outputs": [],
   "source": [
    "load(\"hwk7.mat\")"
   ]
  },
  {
   "cell_type": "markdown",
   "metadata": {},
   "source": [
    "# Generate Clean Signal"
   ]
  },
  {
   "cell_type": "code",
   "execution_count": 171,
   "metadata": {},
   "outputs": [],
   "source": [
    "function sig = generate(nsensors, A, d, delt_phi, angle, f0, c)\n",
    "    dlamb = d / (c / f0);\n",
    "    deltaphi = 2*pi*sind(angle)*dlamb ;\n",
    "    s = exp(-i .* (0:nsensors-1)' .* deltaphi);\n",
    "    sig = s * A * cos(2*pi*f0+delt_phi);\n",
    "end"
   ]
  },
  {
   "cell_type": "code",
   "execution_count": 172,
   "metadata": {},
   "outputs": [],
   "source": [
    "function [best_angle, cors] = find_angle(y, f0, c, d, nsensors, precision_degrees)\n",
    "    count = 0;\n",
    "    for angle=-90:precision_degrees:90\n",
    "        count += 1;\n",
    "        dlamb = d/(c/f0);\n",
    "        deltaphi = 2*pi*dlamb*sind(angle);\n",
    "        s = exp(-i .* (0:nsensors-1)' .* deltaphi);\n",
    "        cor = abs(s'*y);\n",
    "        cors(count) = cor;\n",
    "    end\n",
    "    [maxcor, idx] = max(cors);\n",
    "    best_angle = (-90:precision_degrees:90)(idx);\n",
    "end"
   ]
  },
  {
   "cell_type": "markdown",
   "metadata": {},
   "source": [
    "## Test on Clean Data"
   ]
  },
  {
   "cell_type": "code",
   "execution_count": 173,
   "metadata": {},
   "outputs": [
    {
     "name": "stdout",
     "output_type": "stream",
     "text": [
      "sig =\n",
      "\n",
      "   2.00000 - 0.00000i\n",
      "  -1.82545 - 0.81715i\n",
      "   1.33226 + 1.49167i\n",
      "  -0.60653 - 1.90581i\n",
      "  -0.22508 + 1.98729i\n",
      "   1.01740 - 1.72189i\n",
      "  -1.63213 + 1.15593i\n",
      "   1.96196 - 0.38820i\n",
      "  -1.94934 - 0.44730i\n",
      "   1.59645 + 1.20471i\n",
      "\n"
     ]
    }
   ],
   "source": [
    "sig = generate(10, 2, d, 0.0, 60, 3e9, 3e8)"
   ]
  },
  {
   "cell_type": "code",
   "execution_count": 170,
   "metadata": {},
   "outputs": [
    {
     "name": "stdout",
     "output_type": "stream",
     "text": [
      "angle =  60\n"
     ]
    }
   ],
   "source": [
    "[angle, cors] = find_angle(sig, f0, c, d, 10, 1);\n",
    "angle"
   ]
  },
  {
   "cell_type": "code",
   "execution_count": 152,
   "metadata": {},
   "outputs": [
    {
     "name": "stdout",
     "output_type": "stream",
     "text": [
      "ans = Angle:-90 !=90\n"
     ]
    }
   ],
   "source": [
    "for angle=-90:1:90\n",
    "    sig = generate(10, 2, 5, 0, angle, 3e9, 3e8);\n",
    "    [ang_found, corstest] = find_angle(sig, 3e9, 3e8, 5, 10, 0.1);\n",
    "    if ang_found != angle\n",
    "        strcat(\"Angle: \", num2str(ang_found), \" != \", num2str(angle))\n",
    "    end\n",
    "end"
   ]
  },
  {
   "cell_type": "markdown",
   "metadata": {},
   "source": [
    "## Run on Signal Data!"
   ]
  },
  {
   "cell_type": "code",
   "execution_count": 174,
   "metadata": {},
   "outputs": [
    {
     "name": "stdout",
     "output_type": "stream",
     "text": [
      "angle =  20\n"
     ]
    }
   ],
   "source": [
    "[angle, cors] = find_angle(Y, f0, c, d, 16, 1);\n",
    "angle"
   ]
  },
  {
   "cell_type": "code",
   "execution_count": 142,
   "metadata": {},
   "outputs": [
    {
     "data": {
      "image/png": "[encoded data removed]",
      "text/plain": [
       "<IPython.core.display.Image object>"
      ]
     },
     "metadata": {},
     "output_type": "display_data"
    }
   ],
   "source": [
    "r = linspace(-pi / 2, pi / 2, length(cors));\n",
    "polar(r, cors)\n",
    "title(\"Likelihood vs. Angle\")"
   ]
  },
  {
   "cell_type": "code",
   "execution_count": 181,
   "metadata": {},
   "outputs": [
    {
     "data": {
      "image/png": "[encoded data removed]",
      "text/plain": [
       "<IPython.core.display.Image object>"
      ]
     },
     "metadata": {},
     "output_type": "display_data"
    }
   ],
   "source": [
    "fake_signal = generate(16, 1, d, 0.0, 20, f0, c);\n",
    "plot(real(fake_signal), 'DisplayName', 'Generated')\n",
    "hold on\n",
    "plot(real(Y), 'DisplayName', 'Observed')\n",
    "title(\"Observed Signal & Generated Signal with Estimated Angle\")\n",
    "xlabel(\"Sensor\")\n",
    "ylabel(\"Amplitude\")\n",
    "legend"
   ]
  }
 ],
 "metadata": {
  "kernelspec": {
   "display_name": "Octave",
   "language": "octave",
   "name": "octave"
  },
  "language_info": {
   "file_extension": ".m",
   "help_links": [
    {
     "text": "GNU Octave",
     "url": "https://www.gnu.org/software/octave/support.html"
    },
    {
     "text": "Octave Kernel",
     "url": "https://github.com/Calysto/octave_kernel"
    },
    {
     "text": "MetaKernel Magics",
     "url": "https://github.com/calysto/metakernel/blob/master/metakernel/magics/README.md"
    }
   ],
   "mimetype": "text/x-octave",
   "name": "octave",
   "version": "4.4.0"
  }
 },
 "nbformat": 4,
 "nbformat_minor": 2
}
