{
 "cells": [
  {
   "cell_type": "markdown",
   "metadata": {},
   "source": [
    "## PSK Modulation with Noise\n",
    "PSK Modulation encodes bits both in the cosine and sine of a complex signal, allowing for a higher bitrate without requiring wider bandwidth.  This gain does come at a cost though: SNR.  Viewed in the complex plane, PSK symbols are placed around the ring of a circle centered at 0 with unit radius.  The angle between symbols, $\\Delta \\phi$, is inversely proportiona to the number of bits encoded in a single symbol.  Noise viewed on the complex plane shifts points both left-right and up-down.  Independent, Identically Distributed (IID) noise shifts points equally up-down and right-left.  As $\\Delta \\phi$ Decreases, noise obfuscates the constellation and it becomes difficult to decode without errors.\n",
    "\n",
    "When receiving a PSK encoded signal mixed with IID noise, it is safe to assume that all constellation outcomes are equally likely.  The reason for this is that it is rare that the packet being sent will have pattern at an integer multiple of the number of bits per symbol e.g. 8 bit/char ascii text is unlikely to produce patterns when encoded in the 3-bit sequences of 8-PSK.  Compressed text would have even higher entropy, again making this a non-issue.  Equal priors mean that ML detection is an optimal solution.  With IID noise, the only difference between the constellation points (classes) is their mean values.  In rectangular coordinates these means could be described in 2 dimensions, however it is easier to think in polar coordinates.  The mean radius is 1 for all classes, so the only factor used in the decision process will be the angle.  The decision boundaries are then placed half way between each ideal angle, or at $k*\\Delta \\phi + \\Delta \\phi / 2, k=1:n$ for n-PSK modulation."
   ]
  },
  {
   "cell_type": "markdown",
   "metadata": {},
   "source": [
    "In this homework, an example file of 8-PSK data in white noise is provided, and is decoded into the most likely message. General functions are developed to decode n-psk symbols to bits, and to convert a bitstream into characters. The decoded message reads \"can you hear me majoj twm\".  Twm might me dissapointed we don't have his name quite right but the message is understood."
   ]
  },
  {
   "cell_type": "markdown",
   "metadata": {},
   "source": [
    "# Appendix A: Matlab Code"
   ]
  },
  {
   "cell_type": "code",
   "execution_count": 3,
   "metadata": {},
   "outputs": [],
   "source": [
    "pkg load mapping\n",
    "pkg load communications\n",
    "pkg load statistics"
   ]
  },
  {
   "cell_type": "code",
   "execution_count": 4,
   "metadata": {},
   "outputs": [],
   "source": [
    "load('hwk4.mat')"
   ]
  },
  {
   "cell_type": "code",
   "execution_count": 5,
   "metadata": {},
   "outputs": [],
   "source": [
    "function bits = decode_npsk(nbits, pkt)\n",
    "    deltaphi = 2*pi / (2^nbits);\n",
    "    angle(pkt);\n",
    "    % Adding deltaphi / 2, wrapping to 2 pi then rounding down \n",
    "    % is the same as just rounding to nearest center\n",
    "    angles = wrapTo2Pi(angle(pkt) + deltaphi / 2);\n",
    "    decisions = idivide(angles, deltaphi);\n",
    "    bits = de2bi(decisions, nbits, \"left-msb\");\n",
    "end"
   ]
  },
  {
   "cell_type": "markdown",
   "metadata": {},
   "source": [
    "I used the [Ascii table](http://www.asciitable.com/) to make this function simpler and avoid a case statement."
   ]
  },
  {
   "cell_type": "code",
   "execution_count": 6,
   "metadata": {},
   "outputs": [],
   "source": [
    "function str = bits2string(bitvec, bperchar)\n",
    "    onerow = reshape(bitvec', [], 1);\n",
    "    bits = reshape(onerow, bperchar, [])';\n",
    "    string = [''];\n",
    "    for it=1:size(bits)(1)\n",
    "        bitchar = num2str(bits(it,:));\n",
    "        bitchar(isspace(bitchar)) = '';\n",
    "        if bitchar == '00000'\n",
    "            string(it) = ' ';\n",
    "        else\n",
    "            % Ascii a=\n",
    "            string(it) = char(bin2dec(bitchar)+96);\n",
    "        end\n",
    "    end\n",
    "    str = string;\n",
    "end"
   ]
  },
  {
   "cell_type": "markdown",
   "metadata": {},
   "source": [
    "Test bitstring to letters function"
   ]
  },
  {
   "cell_type": "code",
   "execution_count": 7,
   "metadata": {},
   "outputs": [
    {
     "name": "stdout",
     "output_type": "stream",
     "text": [
      "ans = go on\n"
     ]
    }
   ],
   "source": [
    "go_on = [ 0 0 1 1 1 0 1 1 1 1 0 0 0 0 0 0 1 1 1 1 0 1 1 1 0 ];\n",
    "bits2string(go_on, 5)"
   ]
  },
  {
   "cell_type": "markdown",
   "metadata": {},
   "source": [
    "Plot points in constellation"
   ]
  },
  {
   "cell_type": "code",
   "execution_count": 39,
   "metadata": {},
   "outputs": [
    {
     "data": {
      "image/png": "[encoded data removed]",
      "text/plain": [
       "<IPython.core.display.Image object>"
      ]
     },
     "metadata": {},
     "output_type": "display_data"
    }
   ],
   "source": [
    "r = 0:7;\n",
    "deltaphi = 2*pi / 8;\n",
    "angles = deltaphi .*r + deltaphi / 2;\n",
    "bounds = 1*exp(i*angles);\n",
    "scatter(real(y), imag(y), 200, 'o');\n",
    "hold on\n",
    "scatter(real(bounds), imag(bounds), 400, 'o')\n",
    "bwzeros = vertcat(zeros(1, length(bounds)), bounds);\n",
    "plot(real(bwzeros), imag(bwzeros), '-')\n",
    "title('Sample Points with Decision Boundary Lines')\n",
    "xlabel('Real')\n",
    "ylabel('Imaginary')"
   ]
  },
  {
   "cell_type": "code",
   "execution_count": 40,
   "metadata": {},
   "outputs": [],
   "source": [
    "bits = decode_npsk(3, y);"
   ]
  },
  {
   "cell_type": "code",
   "execution_count": 41,
   "metadata": {},
   "outputs": [
    {
     "name": "stdout",
     "output_type": "stream",
     "text": [
      "ans = can you hear me majoj twm  \n"
     ]
    }
   ],
   "source": [
    "bits2string(bits, 5)"
   ]
  },
  {
   "cell_type": "markdown",
   "metadata": {},
   "source": [
    "The final step is to use the semantic language decoding algorithm we have built in as humans to round this message to \"Can you hear me major Tom\"."
   ]
  }
 ],
 "metadata": {
  "kernelspec": {
   "display_name": "Octave",
   "language": "octave",
   "name": "octave"
  },
  "language_info": {
   "file_extension": ".m",
   "help_links": [
    {
     "text": "GNU Octave",
     "url": "https://www.gnu.org/software/octave/support.html"
    },
    {
     "text": "Octave Kernel",
     "url": "https://github.com/Calysto/octave_kernel"
    },
    {
     "text": "MetaKernel Magics",
     "url": "https://github.com/calysto/metakernel/blob/master/metakernel/magics/README.md"
    }
   ],
   "mimetype": "text/x-octave",
   "name": "octave",
   "version": "4.4.0"
  }
 },
 "nbformat": 4,
 "nbformat_minor": 2
}
