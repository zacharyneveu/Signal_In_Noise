{
 "cells": [
  {
   "cell_type": "markdown",
   "metadata": {},
   "source": [
    "# Homework 1\n",
    "### Detection of Signals in Noise EECE4688\n",
    "Zachary Neveu"
   ]
  },
  {
   "cell_type": "markdown",
   "metadata": {},
   "source": [
    "## Introduction\n",
    "Maximum Likelihood Detection (ML Detection) is a method of determining which of two distributions a sample belongs to.  This can be used to determine whether a signal is present or absent in noise, or which of two noises is present.  In order to use ML Detection, one must first know the Probaility Density Functions (PDFs) of the 2 distributions from which to decide. Deciding between the 2 distributions is then a matter of drawing vertical line on a histogram of both distributions.  Samples to the left of the line are predicted to be part of distribution 0, say noise without signal, while samples to the right of the line are likely part of distribution 1, say noise with signal added.  ML Detection proposes drawing this line half way between the centers of each distribution.  For example, in Fig. 1, signal 0 is gaussian noise with distribution $y_0 = z \\sim N(0,1)$, and signal 1 is gaussian noise added to a constant signal with amplitude 4, $y_1 = A+z \\sim N(4,1)$. ML Detection would then draw the decision boundary, $\\gamma$, at $A/2 = 2$.  Put in terms of hypothesis testing, $H_0$, $H_1$, and the ML decision criteria look as follows.\n",
    "$$H_0: y = A+z$$\n",
    "$$H_1: y = z$$\n",
    "$$\\gamma = A/2$$\n",
    "As seen in Fig. 1, this line will missclassify some examples. If the criteria assumes that a sample has signal, while it only has noise (blue distribution but $y \\gt 2$ in Fig. 1), this is called a False Alarm (FA).  If the criteria assumes a sample has only noise, while it in fact has signal (green distribution, but $y \\lt 2$ in Fig. 1) this is called a Missed Detection (MD). The area under either distribution can be written as \n",
    "$P_{FA} = P_{MD} = \\Phi(\\mu_z, \\sigma_z, \\gamma, \\infty)$, where $\\Phi$ is the Normal Cumulative Density Function (NCDF) and $\\gamma$ is the decision boundary. The Q function is defined as $Q(x) = 1 - \\Phi(x)$, so $P_{FA}$ can be restated as\n",
    "$$P_{FA} = Q(\\frac{A}{2}) = Q(\\frac{1}{2} \\sqrt{\\frac{A^2}{\\sigma_z^2}}) = Q(\\frac{1}{2} \\sqrt{SNR})$$\n",
    "Here, I attempt to create a Maximum Likelihood Classifier, and verify $P_{FA}$ empirically."
   ]
  },
  {
   "cell_type": "markdown",
   "metadata": {},
   "source": [
    "<cite data-cite=\"6626831/Y9KTNCJG\"></cite>"
   ]
  },
  {
   "cell_type": "markdown",
   "metadata": {},
   "source": [
    "# Conclusions\n",
    "The theoretical and experimental results match up within a margin of error.  The error in this case is simply caused by running $10,000$ simulations instead of $\\infty$.  It is important to note than that $P_{FA} = P(\\hat{y} = A+z | y = z)$ and not $P_{FA} \\ne P(\\hat{y} = A+z, y = z)$.  At first, the second probability might seem like a good definition for $P_{FA}$, as it describes the probability that a randomly chosen sample is a false alarm.  $P_{FA} = Q(\\frac{1}{2} \\sqrt{SNR})$, however, simply measures the tail of the blue distribution, $\\int_{\\gamma}^{\\infty}P(y = z)$. This theoretical measure of $P_{FA}$ remains constant with regards to the overall probability of a signal being present (Fig. 3), which is a better measure of the performance of a detector.  Imagine, that the probability of a signal being present is $0.99$. It is very unlikely that a sample will be taken without a signal present, so out of say 10,000 samples, there will be very few missed detections.  Measuring the false detections as a porportion of the samples without signal, however, will better show how the classifier is handling samples without signal. "
   ]
  },
  {
   "cell_type": "markdown",
   "metadata": {},
   "source": [
    "# Code"
   ]
  },
  {
   "cell_type": "code",
   "execution_count": 15,
   "metadata": {
    "label": "fig:test"
   },
   "outputs": [
    {
     "data": {
      "image/png": "[encoded data removed]",
      "text/plain": [
       "<IPython.core.display.Image object>"
      ]
     },
     "metadata": {},
     "output_type": "display_data"
    }
   ],
   "source": [
    "a = randn(10000,1);\n",
    "b = a+4;\n",
    "hist(a, 30, 'FaceColor', 'b')\n",
    "hold on\n",
    "hist(b, 30, 'FaceColor', 'g')\n",
    "xlim([-4, 8])\n",
    "xlabel('Value of Sample')\n",
    "ylabel('Frequency')\n",
    "title('Fig 1: Gaussian Noise and Gaussian Noise + Signal')"
   ]
  },
  {
   "cell_type": "markdown",
   "metadata": {},
   "source": [
    "## Generate Gaussian Noise + 70% Chance of Signal\n",
    "+ Convert SNR in dB to a simple ratio with $SNR = 10^{\\frac{SNRdB}{10}}$\n",
    "+ Use SNR to get signal amplitude using $A = \\sqrt{SNR} * \\sigma_z$ with $\\sigma_z = 1$\n",
    "+ Generate a realization of a zero-mean Gaussian RV, z\n",
    "+ Pick a random number between 0 and 1: if it is less than 0.7 return the sum of $A+Z$, else, return $Z$"
   ]
  },
  {
   "cell_type": "code",
   "execution_count": 1,
   "metadata": {},
   "outputs": [],
   "source": [
    "function [make_sig, y] = generate(SNRdB, prob)\n",
    "    % next two lines equivalent to dB2mag(SNRdB)\n",
    "    SNR = 10 ^ (SNRdB / 10);\n",
    "    A = sqrt(SNR);\n",
    "    z = randn(1, 1);\n",
    "    make_sig = prob > rand(1);\n",
    "    if make_sig\n",
    "        % do something\n",
    "        y = z + A;\n",
    "    else\n",
    "        y = z;\n",
    "    end\n",
    "end"
   ]
  },
  {
   "cell_type": "markdown",
   "metadata": {},
   "source": [
    "## Determine whether or not signal detected"
   ]
  },
  {
   "cell_type": "code",
   "execution_count": 2,
   "metadata": {},
   "outputs": [],
   "source": [
    "function y = predict(sample, SNRdB)\n",
    "    SNR = 10 ^ (SNRdB / 10);\n",
    "    A = sqrt(SNR);\n",
    "    if sample > A / 2\n",
    "        y = 1;\n",
    "    else\n",
    "        y = 0;\n",
    "    end\n",
    "end"
   ]
  },
  {
   "cell_type": "markdown",
   "metadata": {},
   "source": [
    "# Estimate Probabilities of Correct, Type I, and Type II errors at a range of SNRs"
   ]
  },
  {
   "cell_type": "code",
   "execution_count": 18,
   "metadata": {},
   "outputs": [],
   "source": [
    "function [prob_FA, prob_MD, prob_Correct] = estimate(num_trials, prob_sig, SNRdBs)\n",
    "    prob_FA = zeros(length(SNRdBs), 1);\n",
    "    prob_MD = zeros(length(SNRdBs), 1);\n",
    "    prob_Correct = zeros(length(SNRdBs), 1);\n",
    "    for iter=1:length(SNRdBs)\n",
    "        num_no_signal = 0;\n",
    "        FAs = 0;\n",
    "        MDs = 0;\n",
    "        Correct = 0;\n",
    "        for trial=0:num_trials\n",
    "            [truth, s] = generate(SNRdBs(iter), prob_sig);\n",
    "            guess = predict(s, SNRdBs(iter));\n",
    "            if truth == 0\n",
    "                num_no_signal += 1;\n",
    "                if guess == 1\n",
    "                    FAs += 1;\n",
    "                else\n",
    "                    Correct += 1;\n",
    "                end\n",
    "            elseif truth == 1 \n",
    "                if guess == 0\n",
    "                    MDs += 1;\n",
    "                else\n",
    "                    Correct += 1;\n",
    "                end\n",
    "            end\n",
    "        end\n",
    "        prob_Correct(iter) = Correct / num_trials;\n",
    "        prob_FA(iter) = FAs / num_no_signal;\n",
    "        prob_MD(iter) = MDs / (num_trials - num_no_signal);\n",
    "    end\n",
    "end"
   ]
  },
  {
   "cell_type": "markdown",
   "metadata": {},
   "source": [
    "# Measure and Plot Experimental and Theoretical Results"
   ]
  },
  {
   "cell_type": "code",
   "execution_count": 7,
   "metadata": {},
   "outputs": [],
   "source": [
    "[prob_FA_70pct, ~, ~] = estimate(num_trials=10000, prob_sig=0.7, SNRdBs=0:15);"
   ]
  },
  {
   "cell_type": "code",
   "execution_count": 10,
   "metadata": {},
   "outputs": [],
   "source": [
    "% This next line only necessary if using Octave (open source port of matlab)\n",
    "pkg load communications"
   ]
  },
  {
   "cell_type": "code",
   "execution_count": 11,
   "metadata": {},
   "outputs": [],
   "source": [
    "SNRS = 10 .^ (SNRdBs ./ 10);\n",
    "prob_FA_theory = qfunc(0.5 * sqrt(SNRS'));"
   ]
  },
  {
   "cell_type": "code",
   "execution_count": 22,
   "metadata": {},
   "outputs": [
    {
     "data": {
      "image/png": "[encoded data removed]",
      "text/plain": [
       "<IPython.core.display.Image object>"
      ]
     },
     "metadata": {},
     "output_type": "display_data"
    }
   ],
   "source": [
    "figure\n",
    "hold on\n",
    "semilogy(SNRdBs, prob_FA_70pct, 'DisplayName', 'Experimental, P(signal)=0.7')\n",
    "semilogy(SNRdBs, prob_FA_theory, 'DisplayName', 'Theoretical')\n",
    "title('Fig 2: Probability of False Alarm vs. SNR for Maximum Likelihood')\n",
    "xlabel('SNR (dB)')\n",
    "ylabel('P_{FA}')\n",
    "legend"
   ]
  },
  {
   "cell_type": "markdown",
   "metadata": {},
   "source": [
    "## Measure and plot $P_{fa}, P_{md}, and P_{cd}$ vs $P_{signal}$"
   ]
  },
  {
   "cell_type": "code",
   "execution_count": 20,
   "metadata": {},
   "outputs": [
    {
     "name": "stdout",
     "output_type": "stream",
     "text": [
      "warning: division by zero\n",
      "warning: called from\n",
      "    estimate at line 29 column 23\n"
     ]
    }
   ],
   "source": [
    "Psignal=0:0.01:1;\n",
    "Pfa = zeros(length(Psignal), 1);\n",
    "Pmd = zeros(length(Psignal), 1);\n",
    "Pcd = zeros(length(Psignal), 1);\n",
    "for n=1:length(Psignal)\n",
    "    [Pfa(n), Pmd(n), Pcd(n)] = estimate(10000, Psignal(n), 0);\n",
    "end"
   ]
  },
  {
   "cell_type": "code",
   "execution_count": 21,
   "metadata": {},
   "outputs": [
    {
     "data": {
      "image/png": "[encoded data removed]",
      "text/plain": [
       "<IPython.core.display.Image object>"
      ]
     },
     "metadata": {},
     "output_type": "display_data"
    }
   ],
   "source": [
    "figure\n",
    "hold on\n",
    "plot(Psignal, Pfa, 'DisplayName', 'P_{fa}')\n",
    "plot(Psignal, Pmd, 'DisplayName', 'P_{md}')\n",
    "plot(Psignal, Pcd, 'DisplayName', 'P_{cd}')\n",
    "title('Fig 3: Probabilities of 3 possible outcomes vs. Probability Signal is Present at 0dB')\n",
    "xlabel('P(signal present)')\n",
    "ylabel('P(given outcome)')\n",
    "legend('Location', 'east')\n",
    "legend('boxoff')"
   ]
  }
 ],
 "metadata": {
  "cite2c": {
   "citations": {
    "6626831/Y9KTNCJG": {
     "DOI": "10.1109/TMI.1982.4307558",
     "abstract": "Previous models for emission tomography (ET) do not distinguish the physics of ET from that of transmission tomography. We give a more accurate general mathematical model for ET where an unknown emission density λ = λ(x, y, z) generates, and is to be reconstructed from, the number of counts n*(d) in each of D detector units d. Within the model, we give an algorithm for determining an estimate λ of λ which maximizes the probability p(n*|λ) of observing the actual detector count data n* over all possible densities λ. Let independent Poisson variables n(b) with unknown means λ(b), b = 1, ···, B represent the number of unobserved emissions in each of B boxes (pixels) partitioning an object containing an emitter. Suppose each emission in box b is detected in detector unit d with probability p(b, d), d = 1, ···, D with p(b, d) a one-step transition matrix, assumed known. We observe the total number n* = n*(d) of emissions in each detector unit d and want to estimate the unknown λ = λ(b), b = 1, ···, B. For each λ, the observed data n* has probability or likelihood p(n*|λ). The EM algorithm of mathematical statistics starts with an initial estimate λ0 and gives the following simple iterative procedure for obtaining a new estimate λnew, from an old estimate λold, to obtain Σk, k = 1, 2, ···, λnew(b)= λold(b) λDd=1 n*(d)p(b,d)/Σλold(bΣ)p(bλ,d),b=1,···B.",
     "author": [
      {
       "family": "Shepp",
       "given": "L. A."
      },
      {
       "family": "Vardi",
       "given": "Y."
      }
     ],
     "container-title": "IEEE Transactions on Medical Imaging",
     "id": "6626831/Y9KTNCJG",
     "issue": "2",
     "issued": {
      "month": 10,
      "year": 1982
     },
     "page": "113-122",
     "page-first": "113",
     "title": "Maximum Likelihood Reconstruction for Emission Tomography",
     "type": "article-journal",
     "volume": "1"
    }
   }
  },
  "kernelspec": {
   "display_name": "Octave",
   "language": "octave",
   "name": "octave"
  },
  "language_info": {
   "file_extension": ".m",
   "help_links": [
    {
     "text": "GNU Octave",
     "url": "https://www.gnu.org/software/octave/support.html"
    },
    {
     "text": "Octave Kernel",
     "url": "https://github.com/Calysto/octave_kernel"
    },
    {
     "text": "MetaKernel Magics",
     "url": "https://github.com/calysto/metakernel/blob/master/metakernel/magics/README.md"
    }
   ],
   "mimetype": "text/x-octave",
   "name": "octave",
   "version": "4.4.0"
  },
  "latex_metadata": {
   "affiliation": "Northeastern University, Boston, MA",
   "author": "Zachary Neveu",
   "title": "Homework 1: Maximum Likelihood Detection"
  }
 },
 "nbformat": 4,
 "nbformat_minor": 2
}
