{
 "cells": [
  {
   "cell_type": "code",
   "execution_count": 1,
   "metadata": {},
   "outputs": [],
   "source": [
    "pkg load statistics\n",
    "pkg load communications"
   ]
  },
  {
   "cell_type": "markdown",
   "metadata": {},
   "source": [
    "# HW 3: Neyman Pearson for 2 Signals in Gaussian Noise\n",
    "## Zachary Neveu\n"
   ]
  },
  {
   "cell_type": "markdown",
   "metadata": {},
   "source": [
    "The Neyman-Pearson lemma allows for designing a classifier based on a maximum acceptable bounds on one of the two types of errors (usually $P_{FA}^*$ is specified). Neyman-Pearson sets the decision boundary, $\\gamma$ so that this condition is met, rather than attempting to minimize the total error the way MAP or ML detection would.  In the case that the prior probabilities and costs are equal, this trade does not provide benefits, however when the priors and/or costs aren't equal, this tradeoff can have great benefits.  One example of this was the original use case, radar systems.  The probability of a target being present is very low, however if a target is present, it is very important that it be detected.  By allowing for more false alarms, The probability of a missed detection goes down."
   ]
  },
  {
   "cell_type": "markdown",
   "metadata": {},
   "source": [
    "## 1)\n",
    "### i)"
   ]
  },
  {
   "cell_type": "markdown",
   "metadata": {},
   "source": [
    "$$ H_0: Y = A_0 + z, z\\sim \\mathcal{N}(0, \\sigma_z) $$\n",
    "$$ H_1: Y = A_1 + z, A1 \\gt A0$$"
   ]
  },
  {
   "cell_type": "markdown",
   "metadata": {},
   "source": [
    "$$Y_0 \\sim \\mathcal{N}(A_0, \\sigma_z)$$ \n",
    "$$Y_1 \\sim \\mathcal{N}(A_1, \\sigma_z)$$"
   ]
  },
  {
   "cell_type": "markdown",
   "metadata": {},
   "source": [
    "Looking at Fig. 1, is the right tail of the left gaussian, shaded in purple.  The area of this is then given by the form of the Q function shown below.  $P_{CD}$ is also the area under the gaussian, and so is also a form of the Q function. $\\gamma$ can be found by rearranging $P_{FA}$."
   ]
  },
  {
   "cell_type": "markdown",
   "metadata": {},
   "source": [
    "$$P_{FA}^* = Q(\\frac{\\gamma - A_0}{\\sigma_z}) \\rightarrow P_{CD} = Q(\\frac{\\gamma - A_1}{\\sigma_z})$$"
   ]
  },
  {
   "cell_type": "markdown",
   "metadata": {},
   "source": [
    "$$\\gamma = \\sigma_z * Q^{-1}(P_{FA}^*) + A_0$$"
   ]
  },
  {
   "cell_type": "markdown",
   "metadata": {},
   "source": [
    "### ii)"
   ]
  },
  {
   "cell_type": "markdown",
   "metadata": {},
   "source": [
    "$P_{CD}$ can be found by plugging in our expression for $\\gamma$ into our function for $P_{CD}$ from part i.  It makes sense that $P_{CD}$ gets better if there is more space between the means, less noise, or a larger allowed probability of false alarm."
   ]
  },
  {
   "cell_type": "markdown",
   "metadata": {},
   "source": [
    "$$ P_{CD} = Q(Q^{-1}(P_{FA}^*)+\\frac{A_0 - A_1}{\\sigma_z})$$"
   ]
  },
  {
   "cell_type": "code",
   "execution_count": 2,
   "metadata": {},
   "outputs": [],
   "source": [
    "maxpfa = 0.2;\n",
    "sigmazsq = 1;\n",
    "A0 = db2mag(10);\n",
    "A1 = db2mag(15);\n",
    "gamma = qfuncinv(maxpfa) * sigmazsq + A0;"
   ]
  },
  {
   "cell_type": "code",
   "execution_count": 5,
   "metadata": {},
   "outputs": [
    {
     "data": {
      "image/png": "[encoded data removed]",
      "text/plain": [
       "<IPython.core.display.Image object>"
      ]
     },
     "metadata": {},
     "output_type": "display_data"
    }
   ],
   "source": [
    "r = linspace(-5, 5);\n",
    "hold on\n",
    "plot(r, normpdf(r-A0), 'DisplayName', 'P(y | A_0)')\n",
    "plot(r, normpdf(r-A1), 'DisplayName', 'P(y | A_1)')\n",
    "plot([gamma gamma], [0 0.5], 'DisplayName', '\\gamma')\n",
    "detection_reg = linspace(gamma, 10);\n",
    "no_detect_reg = linspace(-5, gamma);\n",
    "area(detection_reg, normpdf(detection_reg - A0), 'DisplayName', 'False Alarm Region')\n",
    "area(detection_reg, normpdf(detection_reg - A1), 'DisplayName', 'Correct Detection Region')\n",
    "area(no_detect_reg, normpdf(no_detect_reg - A0), 'DisplayName', 'Correct Rejection')\n",
    "area(no_detect_reg, normpdf(no_detect_reg - A1), 'DisplayName', 'Missed Detection')\n",
    "title('Fig. 1: Plot of 2 Gaussians with Critical Regions Shaded')\n",
    "ylabel('P(Y)')\n",
    "xlabel('Y')\n",
    "legend('Location', 'west')\n",
    "legend('boxoff')"
   ]
  },
  {
   "cell_type": "markdown",
   "metadata": {},
   "source": [
    "## 2)"
   ]
  },
  {
   "cell_type": "code",
   "execution_count": 1,
   "metadata": {},
   "outputs": [],
   "source": [
    "function [samps, classes] = generate(A0, A1, sigma, PA0, nSamples)\n",
    "    gen0 = mvnrnd(A0, sigma, nSamples);\n",
    "    gen1 = mvnrnd(A1, sigma, nSamples);\n",
    "    classes = rand(nSamples, 1) > PA0;\n",
    "    samps = gen0 .* !classes + gen1 .* classes;\n",
    "end"
   ]
  },
  {
   "cell_type": "code",
   "execution_count": 2,
   "metadata": {},
   "outputs": [],
   "source": [
    "function [PCD, PFA] = detect(A0, sigmasq, maxpfa, samples, classes)\n",
    "    gamma = sigmasq * qfuncinv(maxpfa) + A0;\n",
    "    cds = and(samples > gamma, classes);\n",
    "    fas = and(samples > gamma, !classes);\n",
    "    PCD = sum(cds) ./ sum(classes);\n",
    "    PFA = sum(fas) ./ sum(!classes);\n",
    "end"
   ]
  },
  {
   "cell_type": "markdown",
   "metadata": {},
   "source": [
    "### i)"
   ]
  },
  {
   "cell_type": "code",
   "execution_count": 7,
   "metadata": {},
   "outputs": [],
   "source": [
    "sigmaz = 1;\n",
    "a0 = db2mag(10);\n",
    "a1 = db2mag(15);\n",
    "p0 = 0.3;\n",
    "maxpfa = 0.1;\n",
    "num_trials = 10000;\n",
    "[samps, cls] = generate(a0, a1, sigmaz, p0, num_trials);"
   ]
  },
  {
   "cell_type": "code",
   "execution_count": 8,
   "metadata": {},
   "outputs": [
    {
     "name": "stdout",
     "output_type": "stream",
     "text": [
      "pcd =  0.87622\n",
      "pfa =  0.099934\n"
     ]
    }
   ],
   "source": [
    "[pcd, pfa] = detect(a0, sigmaz, maxpfa, samps, cls)"
   ]
  },
  {
   "cell_type": "markdown",
   "metadata": {},
   "source": [
    "### ii)"
   ]
  },
  {
   "cell_type": "markdown",
   "metadata": {},
   "source": [
    "Fig. 2 shows the theoretical and experimental values of $P_{CD}$ compared across a variety of $P_{FA}^*$.  The values match up, and increase with $P_{FA}^*$ as they should."
   ]
  },
  {
   "cell_type": "code",
   "execution_count": 12,
   "metadata": {},
   "outputs": [],
   "source": [
    "det_w_args = @(pfa)(detect(a0, sigmaz, pfa, samps, cls));\n",
    "pfas = 0:0.01:1;\n",
    "[pcds_experimental, pfas_experimental] = det_w_args(pfas);"
   ]
  },
  {
   "cell_type": "code",
   "execution_count": 13,
   "metadata": {},
   "outputs": [],
   "source": [
    "pcd_theory = @(pfa)((qfunc((sigmaz*qfuncinv(pfa) + a0 - a1)/sigmaz)));\n",
    "pcds_theoretical = pcd_theory(pfas);"
   ]
  },
  {
   "cell_type": "code",
   "execution_count": 14,
   "metadata": {},
   "outputs": [
    {
     "data": {
      "image/png": "[encoded data removed]",
      "text/plain": [
       "<IPython.core.display.Image object>"
      ]
     },
     "metadata": {},
     "output_type": "display_data"
    }
   ],
   "source": [
    "hold on\n",
    "plot(pfas, pcds_experimental, 'DisplayName', 'Experimental P_{CD}')\n",
    "plot(pfas, pcds_theoretical, 'DisplayName', 'Theoretical P_{CD}')\n",
    "title('Fig. 2: Experimental and Theoretical P_{CD} vs. Max P_{FA}')\n",
    "xlabel('Maximum P_{FA}')\n",
    "ylabel('P_{CD}')\n",
    "legend('Location', 'east')\n",
    "legend('boxoff')"
   ]
  },
  {
   "cell_type": "markdown",
   "metadata": {},
   "source": [
    "### iii)\n",
    "Plotting the designed vs. experimental values for $P_{FA}$, shows that the experimental values match up almost exactly with the theoretical values.  One thing to note, however, is that the experimental $P_{FA}$ can exceed the theoretical value, particularly if the number of experiments is low."
   ]
  },
  {
   "cell_type": "code",
   "execution_count": 15,
   "metadata": {},
   "outputs": [
    {
     "data": {
      "image/png": "[encoded data removed]",
      "text/plain": [
       "<IPython.core.display.Image object>"
      ]
     },
     "metadata": {},
     "output_type": "display_data"
    }
   ],
   "source": [
    "fit = polyfit(pfas, pfas_experimental, 1);\n",
    "pval = polyval(fit, pfas);\n",
    "hold on\n",
    "plot(pfas, pfas_experimental, 'DisplayName', 'Experimental Results')\n",
    "plot(pfas, pval, 'DisplayName', [num2str(fit(1)) 'x+' num2str(fit(2))])\n",
    "title(\"Fig. 3: Experimental vs. Designed P_{FA}\")\n",
    "xlabel('P_{FA}^*')\n",
    "ylabel('P_{FA}')\n",
    "legend('Location', 'east')\n",
    "legend('boxoff')"
   ]
  }
 ],
 "metadata": {
  "kernelspec": {
   "display_name": "Octave",
   "language": "octave",
   "name": "octave"
  },
  "language_info": {
   "file_extension": ".m",
   "help_links": [
    {
     "text": "GNU Octave",
     "url": "https://www.gnu.org/software/octave/support.html"
    },
    {
     "text": "Octave Kernel",
     "url": "https://github.com/Calysto/octave_kernel"
    },
    {
     "text": "MetaKernel Magics",
     "url": "https://github.com/calysto/metakernel/blob/master/metakernel/magics/README.md"
    }
   ],
   "mimetype": "text/x-octave",
   "name": "octave",
   "version": "4.4.0"
  }
 },
 "nbformat": 4,
 "nbformat_minor": 2
}
