{
 "cells": [
  {
   "cell_type": "markdown",
   "metadata": {},
   "source": [
    "Zachary Neveu"
   ]
  },
  {
   "cell_type": "code",
   "execution_count": 2,
   "metadata": {},
   "outputs": [],
   "source": [
    "pkg load statistics\n",
    "pkg load control\n",
    "pkg load communications"
   ]
  },
  {
   "cell_type": "markdown",
   "metadata": {},
   "source": [
    "# Gaussian Signal in Gaussian Noise (both $\\mu = 0$)"
   ]
  },
  {
   "cell_type": "markdown",
   "metadata": {},
   "source": [
    "## i)"
   ]
  },
  {
   "cell_type": "markdown",
   "metadata": {},
   "source": [
    "$$H_1: Y = z \\sim N(0, \\sigma_Z^2)$$\n",
    "$$H_2: Y = A \\sim N(0, \\sigma_A^2) + z \\sim N(0, \\sigma_Z^2) \\rightarrow Y \\sim N(0+0, \\sigma_z^2 + \\sigma_A^2)$$\n"
   ]
  },
  {
   "cell_type": "markdown",
   "metadata": {},
   "source": [
    "As the two signals have the same mean but different variances, there will be two decision boundaries, $\\gamma$, symmetric around the y axis."
   ]
  },
  {
   "cell_type": "markdown",
   "metadata": {},
   "source": [
    "$$\\gamma = P(H_1 | y) \\gtrless P(H_2 | y)$$  \n",
    "$$\\gamma = \\frac{1}{\\sqrt{2\\pi \\sigma_z^2}} e^{\\frac{-y^2}{2\\sigma_z^2}} \\gtrless\n",
    "\\frac{1}{\\sqrt{2\\pi (\\sigma_A^2+\\sigma_Z^2)}} e^{\\frac{-y^2}{2(\\sigma_A^2 + \\sigma_Z^2)}}$$\n",
    "\n",
    "$$\\gamma = e^{y^2(\\frac{1}{2\\sigma_z^2} + \\frac{1}{2(\\sigma_A^2+\\sigma_z^2)})} \\gtrless \\frac{\\sigma_z^2}{\\sigma_z^2 + \\sigma_z^2}$$\n",
    "\n",
    "$$\\gamma = y^2(\\frac{1}{2\\sigma_z^2} + \\frac{1}{2(\\sigma_A^2+\\sigma_z^2)}) \\gtrless ln(\\frac{\\sigma_z^2}{\\sigma_z^2 + \\sigma_z^2})$$\n",
    "\n",
    "\\begin{equation}\n",
    "\\gamma = |y| \\gtrless \\sqrt{\\frac{\\sigma_z^2 (\\sigma_z^2 + \\sigma_A^2)}{\\sigma_z^2 - (\\sigma_z^2 + \\sigma_A^2)} ln(\\frac{\\sigma_z^2}{\\sigma_z^2 + \\sigma_A^2})}\n",
    "\\end{equation}"
   ]
  },
  {
   "cell_type": "markdown",
   "metadata": {
    "toc-hr-collapsed": true
   },
   "source": [
    "## ii)"
   ]
  },
  {
   "cell_type": "markdown",
   "metadata": {},
   "source": [
    "If $\\frac{\\sigma_A^2}{\\sigma_z^2} = 10dB = 10$, $\\sigma_A^2 = \\sigma_z^2 * 10$.  Substituting into Eq. 1, this gives:\n",
    "\n",
    "$$\\gamma = |y| \\gtrless \\sqrt{\\frac{\\sigma_z^2 (\\sigma_z^2 + \\sigma_z^2*10)}{\\sigma_z^2 - (\\sigma_z^2 + \\sigma_z^2*10)} ln(\\frac{\\sigma_z^2}{\\sigma_z^2 + \\sigma_z^2*10})}$$"
   ]
  },
  {
   "cell_type": "markdown",
   "metadata": {},
   "source": [
    "$$\\gamma = |y| \\gtrless \\sqrt{-11/10 \\sigma_z^2 * ln(\\frac{1}{11})}$$  "
   ]
  },
  {
   "cell_type": "code",
   "execution_count": 32,
   "metadata": {},
   "outputs": [
    {
     "name": "stdout",
     "output_type": "stream",
     "text": [
      "gamma =  1.6241\n"
     ]
    }
   ],
   "source": [
    "SNRdB = 10;\n",
    "sigmazsq = 1;\n",
    "sigmaasq = sigmazsq * 10^(SNRdB / 10);\n",
    "gamma = sqrt(log(1+sigmaasq/sigmazsq) / -(1/(sigmaasq+sigmazsq) - 1/sigmazsq))"
   ]
  },
  {
   "cell_type": "code",
   "execution_count": 45,
   "metadata": {},
   "outputs": [
    {
     "data": {
      "image/png": "[encoded data removed]",
      "text/plain": [
       "<IPython.core.display.Image object>"
      ]
     },
     "metadata": {},
     "output_type": "display_data"
    }
   ],
   "source": [
    "hold on\n",
    "r = linspace(-10, 10);\n",
    "plot(r, normpdf(r, 0, sqrt(sigmaasq+sigmazsq)), 'DisplayName', 'A+z')\n",
    "plot(r, normpdf(r, 0, sqrt(sigmazsq)), 'DisplayName', 'z')\n",
    "plot([-gamma -gamma], [0, 0.5], 'DisplayName', '-\\gamma')\n",
    "plot([gamma, gamma], [0, 0.5], 'DisplayName', '\\gamma')\n",
    "title('z and A+z vs. y with \\gamma marked')\n",
    "xlabel('y')\n",
    "ylabel('P(y)')\n",
    "legend()\n",
    "legend('boxoff')"
   ]
  },
  {
   "cell_type": "markdown",
   "metadata": {},
   "source": [
    "Looking at the above graph, $P_{FA}$ is the area under the red line outside of $[-\\gamma, \\gamma]$. Since the area under tails of gaussians are described by the Q function, this could be described by $P_{FA} = 2*Q(\\gamma / \\sigma_z^2)$.  $P_{MD}$ is the area under the blue curve in the region $[-\\gamma, \\gamma]$. This can be described by $P_{MD} = 1 - 2*Q(\\frac{\\gamma}{\\sigma_z^2 + \\sigma_A^2})$.  This leaves $P_e = P_{MD} * P_1 + P_{FA} * P_0 = \\frac{1}{2}[2Q(\\frac{\\gamma}{\\sigma_z^2}) + 1 - 2Q(\\frac{\\gamma}{\\sigma_z^2+\\sigma_A^2})]$"
   ]
  },
  {
   "cell_type": "markdown",
   "metadata": {},
   "source": [
    "## iii)"
   ]
  },
  {
   "cell_type": "code",
   "execution_count": 46,
   "metadata": {},
   "outputs": [],
   "source": [
    "function [PFA, PMD] = error(SNRdB)\n",
    "    sigmazsq = 1;\n",
    "    sigmaasq = sigmazsq * 10^(SNRdB / 10);\n",
    "    gamma = sqrt(log(1+sigmaasq/sigmazsq) / -(1/(sigmaasq+sigmazsq) - 1/sigmazsq));\n",
    "    PFA = 2*qfunc(gamma / sigmazsq);\n",
    "    PMD = 1 - 2*qfunc(gamma / (sigmazsq + sigmaasq));\n",
    "end"
   ]
  },
  {
   "cell_type": "code",
   "execution_count": 48,
   "metadata": {},
   "outputs": [
    {
     "data": {
      "image/png": "[encoded data removed]",
      "text/plain": [
       "<IPython.core.display.Image object>"
      ]
     },
     "metadata": {},
     "output_type": "display_data"
    }
   ],
   "source": [
    "r = linspace(0, 15);\n",
    "[PFAs, PMDs] = arrayfun(@error, r);\n",
    "hold on\n",
    "plot(r, PFAs, 'DisplayName', 'P_{FA} vs. SNR (dB)')\n",
    "plot(r, PMDs, 'DisplayName', 'P_{MD} vs. SNR (dB)')\n",
    "xlabel('SNR (dB)')\n",
    "ylabel('P(FA, MD)')\n",
    "legend()\n",
    "legend('boxoff')"
   ]
  },
  {
   "cell_type": "markdown",
   "metadata": {
    "toc-hr-collapsed": false
   },
   "source": [
    "# Signal in Laplacian Noise"
   ]
  },
  {
   "cell_type": "markdown",
   "metadata": {},
   "source": [
    "### i)\n",
    "If a PDF, $f_1$, is symettric around 0, then $f_1(x) = f_1(x-A)$ if $x = A/2$.  The laplacian distribution is symmetrical, because for all $z$, $\\frac{\\lambda}{2}e^{-\\lambda |z|} = \\frac{\\lambda}{2}e^{-\\lambda |-z|}$.  We can then say that for the ML detection rule, the decision boundary, $\\gamma = A/2$.  This is supported by Fig. 2, showing a laplace distribution, a copy of it shifted by $A$, and the proposed decision boundary, $\\gamma$, which falls at the intersection of the distributions."
   ]
  },
  {
   "cell_type": "code",
   "execution_count": 2,
   "metadata": {},
   "outputs": [
    {
     "data": {
      "image/png": "[encoded data removed]",
      "text/plain": [
       "<IPython.core.display.Image object>"
      ]
     },
     "metadata": {},
     "output_type": "display_data"
    }
   ],
   "source": [
    "r = linspace(-7,7);\n",
    "A = db2mag(10);\n",
    "hold on\n",
    "plot(r, laplace_pdf(r), 'DisplayName', 'Y = Z')\n",
    "plot(r+A, laplace_pdf(r), 'DisplayName', 'Y = A + Z')\n",
    "plot([A/2 A/2], [0, 0.5], 'DisplayName', '\\gamma')\n",
    "title('Laplacian noise, signal in noise, and proposed decision boundary')\n",
    "xlabel('x')\n",
    "ylabel('P(x)')\n",
    "legend()\n",
    "legend('boxoff')"
   ]
  },
  {
   "cell_type": "markdown",
   "metadata": {},
   "source": [
    "### ii)\n",
    "To get $P_{FA}$ and $P_{MD}$ it is simply necessary to calculate the area under the overlapping tails of the laplace distributions.  This could be done by solving $P_{FA} = \\int_{-\\infty}^{A/2} \\frac{\\lambda}{2}e^{-\\lambda |z|} dz$. Note that the tails are symmetrical, so $P_{MD} = P_{FA}$.  Here we are simply using Matlab's `laplace_cdf()` function as it makes plotting and calculating easier."
   ]
  },
  {
   "cell_type": "code",
   "execution_count": 3,
   "metadata": {},
   "outputs": [
    {
     "name": "stdout",
     "output_type": "stream",
     "text": [
      "pfa =  0.10287\n",
      "pmd =  0.10287\n",
      "pe =  0.20574\n"
     ]
    }
   ],
   "source": [
    "A = db2mag(10);\n",
    "pfa = 1 - laplace_cdf(A/2)\n",
    "pmd = laplace_cdf(-A/2)\n",
    "pe = pfa + pmd"
   ]
  },
  {
   "cell_type": "markdown",
   "metadata": {},
   "source": [
    "### iii)"
   ]
  },
  {
   "cell_type": "code",
   "execution_count": 4,
   "metadata": {},
   "outputs": [],
   "source": [
    "snrs = linspace(0, 15);\n",
    "as = db2mag(snrs);\n",
    "pfas = laplace_cdf(-1 .* as ./ 2);\n",
    "pmds = pfas;"
   ]
  },
  {
   "cell_type": "code",
   "execution_count": 5,
   "metadata": {},
   "outputs": [
    {
     "data": {
      "image/png": "[encoded data removed]",
      "text/plain": [
       "<IPython.core.display.Image object>"
      ]
     },
     "metadata": {},
     "output_type": "display_data"
    }
   ],
   "source": [
    "plot(snrs, pfas, 'b', 'DisplayName', 'P_{FA} vs. SNR')\n",
    "title('Probability of False Alarm vs. SNR')\n",
    "xlabel('SNR (dB)')\n",
    "ylabel('P_{FA}')\n",
    "legend()\n",
    "legend('boxoff')"
   ]
  },
  {
   "cell_type": "code",
   "execution_count": 6,
   "metadata": {},
   "outputs": [
    {
     "data": {
      "image/png": "[encoded data removed]",
      "text/plain": [
       "<IPython.core.display.Image object>"
      ]
     },
     "metadata": {},
     "output_type": "display_data"
    }
   ],
   "source": [
    "plot(snrs, pmds, 'r', 'DisplayName', 'P_{MD} vs. SNR')\n",
    "title('Probability of Missed Detection vs. SNR')\n",
    "xlabel('SNR (dB)')\n",
    "ylabel('P_{FA}')\n",
    "legend()\n",
    "legend('boxoff')"
   ]
  },
  {
   "cell_type": "markdown",
   "metadata": {},
   "source": [
    "# MAP and ML comparison with Signal in Gaussian Noise and $P_0 \\ne P_1$\n",
    "From Homework 1, $P_{FA} = P_{MD} = Q(\\frac{1}{2} \\sqrt{SNR})$, so for ML detection at 3dB, "
   ]
  },
  {
   "cell_type": "code",
   "execution_count": 3,
   "metadata": {},
   "outputs": [
    {
     "name": "stdout",
     "output_type": "stream",
     "text": [
      "PFA =  0.24001\n",
      "PMD =  0.24001\n"
     ]
    }
   ],
   "source": [
    "SNRdB = 3;\n",
    "PFA = qfunc(0.5 * sqrt(10^(SNRdB / 10)))\n",
    "PMD = PFA"
   ]
  },
  {
   "cell_type": "markdown",
   "metadata": {},
   "source": [
    "Using MAP detection, $\\gamma = \\frac{f_1(y)}{f_0(y)} = \\frac{P_0}{P_1}$, so with $P_0 = 0.3$ and $P_1 = 0.7$, $\\gamma = \\frac{f_1(y)}{f_0(y)} = 3/7$.  In class, we showed that this can be expanded and simplified to get\n",
    "$$\\gamma = y \\gtrless \\frac{A}{2} + \\frac{\\sigma_z^2}{A}ln(\\frac{P_0}{P_1})$$"
   ]
  },
  {
   "cell_type": "markdown",
   "metadata": {},
   "source": [
    "$P_{FA}$ can then be written as \n",
    "$$P_{FA} = Q(\\gamma) = Q(\\frac{A}{2} + \\frac{\\sigma_z^2}{A}ln(\\frac{P_0}{P_1})) = Q(\\frac{\\sqrt{SNR}}{2} + \\frac{1}{\\sqrt{SNR}}ln(\\frac{P_0}{P_1}))$$"
   ]
  },
  {
   "cell_type": "markdown",
   "metadata": {},
   "source": [
    "The final term of this equation is the amount that $\\gamma$ was shifted by the prior probabilities, so $P_{MD}$ is the same equation with the shift in the opposite direction, \n",
    "$$Q(\\frac{\\sqrt{SNR}}{2} - \\frac{1}{\\sqrt{SNR}}ln(\\frac{P_0}{P_1}))$$"
   ]
  },
  {
   "cell_type": "code",
   "execution_count": 4,
   "metadata": {},
   "outputs": [
    {
     "name": "stdout",
     "output_type": "stream",
     "text": [
      "gamma =  0.10643\n",
      "PFA_MAP =  0.45762\n",
      "PMD_MAP =  0.095758\n"
     ]
    }
   ],
   "source": [
    "SNRdB = 3;\n",
    "A = db2mag(SNRdB);\n",
    "P0 = .3;\n",
    "sigmasq = 1;\n",
    "SNR = 10^(SNRdB / 10);\n",
    "gamma = A/2 + (sigmasq / A) * log(P0/(1-P0))\n",
    "PFA_MAP = qfunc(sqrt(SNR) / 2 + 1 / sqrt(SNR) * log(P0/(1-P0)))\n",
    "PMD_MAP = qfunc(sqrt(SNR) / 2 - 1 / sqrt(SNR) * log(P0/(1-P0)))"
   ]
  },
  {
   "cell_type": "markdown",
   "metadata": {},
   "source": [
    "An interesting way to visualize how MAP detection is different from ML detection is to plot the two distributions scaled by the probability that they occur so that the total area under both distributions sums to 1.  $\\gamma_{MAP}$ will then fall at the intersection of the two distributions, whereas $\\gamma_{ML}$ will not fall at this intersection, making for a sub-optimal $P_e$."
   ]
  },
  {
   "cell_type": "code",
   "execution_count": 7,
   "metadata": {},
   "outputs": [
    {
     "data": {
      "image/png": "[encoded data removed]",
      "text/plain": [
       "<IPython.core.display.Image object>"
      ]
     },
     "metadata": {},
     "output_type": "display_data"
    }
   ],
   "source": [
    "r = linspace(-10, 10);\n",
    "hold on\n",
    "plot(r, P0 *normpdf(r, 0, sqrt(sigmasq)), 'DisplayName', 'P(H_0 | y) * P_{H_0}')\n",
    "plot(r, (1-P0)*normpdf(r, A, sqrt(sigmasq)), 'DisplayName', 'P(H_1 | y) * P_{H_1}')\n",
    "plot([gamma gamma], [0 0.5], 'DisplayName', '\\gamma')\n",
    "title('Gaussians Scaled by Prior Probabilities and MAP Decision Boundary')\n",
    "xlabel('y')\n",
    "ylabel('P_{y | H_i} * P_{H_i}')\n",
    "legend()\n",
    "legend('boxoff')"
   ]
  },
  {
   "cell_type": "markdown",
   "metadata": {
    "toc-hr-collapsed": false
   },
   "source": [
    "# MAP Detection with Incorrect Prior Probabilities"
   ]
  },
  {
   "cell_type": "markdown",
   "metadata": {},
   "source": [
    "If $P_0$ and $P_1$ are estimated, and are not correct, the MAP classifier will not minimize $P_e$ and the shifted decision boundary will disproportionately effect either $P_{FA}$ or $P_{MD}$. $P_{FA} = P(H_1 | H_0)$, which does not depend on $P_0$ and $P_1$, so $P_{FA}$ is determined by our guess and where $\\gamma$ is set. $P_e$, however, will suffer from the incorrect guess, in this case increasing by 4.462% over $P_e$ if $P_0$ was known."
   ]
  },
  {
   "cell_type": "code",
   "execution_count": 49,
   "metadata": {},
   "outputs": [
    {
     "name": "stdout",
     "output_type": "stream",
     "text": [
      "gamma = -0.84925\n",
      "PFA_guess =  0.80213\n",
      "PMD_guess =  0.011855\n",
      "PE_guess =  0.24894\n",
      "error: 'PFA_MAP' undefined near line 1 column 10\n",
      "error: 'PE_min' undefined near line 1 column 23\n"
     ]
    }
   ],
   "source": [
    "SNRdB = 3;\n",
    "A = db2mag(SNRdB);\n",
    "P0 = 0.3;\n",
    "P0guess = 0.1;\n",
    "sigmasq = 1;\n",
    "SNR = 10^(SNRdB / 10);\n",
    "gamma = A/2 + (sigmasq / A) * log(P0guess/(1-P0guess))\n",
    "PFA_guess = qfunc(sqrt(SNR) / 2 + 1 / sqrt(SNR) * log(P0guess/(1-P0guess)))\n",
    "PMD_guess = qfunc(sqrt(SNR) / 2 - 1 / sqrt(SNR) * log(P0guess/(1-P0guess)))\n",
    "PE_guess = PFA_guess * P0 + PMD_guess * (1-P0)\n",
    "PE_min = PFA_MAP * P0 + PMD_MAP * (1-P0)\n",
    "delta_PE = PE_guess - PE_min"
   ]
  },
  {
   "cell_type": "code",
   "execution_count": 8,
   "metadata": {},
   "outputs": [
    {
     "data": {
      "image/png": "[encoded data removed]",
      "text/plain": [
       "<IPython.core.display.Image object>"
      ]
     },
     "metadata": {},
     "output_type": "display_data"
    }
   ],
   "source": [
    "r = linspace(-10, 10);\n",
    "hold on\n",
    "plot(r, P0 * normpdf(r, 0, sqrt(sigmasq)), 'DisplayName', 'P(H_0 | y) * P_{H_0}')\n",
    "plot(r, (1-P0) * normpdf(r, A, (sigmasq)), 'DisplayName', 'P(H_1 | y) * P_{H_1}')\n",
    "plot([gamma gamma], [0 0.5], 'DisplayName', '\\gamma')\n",
    "title('Gaussians Scaled by Prior Probabilities and Estimated MAP Decision Boundary')\n",
    "xlabel('y')\n",
    "ylabel('P_{y | H_i} * P_{H_i}')\n",
    "legend()\n",
    "legend('boxoff')"
   ]
  }
 ],
 "metadata": {
  "cite2c": {
   "citations": {
    "6626831/26I8EKBG": {
     "URL": "http://time.com/4998189/iphone-x-privacy-apple/",
     "abstract": "The iPhone maker has spent decades crafting a system that is nearly perfect for our time.",
     "accessed": {
      "day": 2,
      "month": 2,
      "year": 2019
     },
     "container-title": "Time",
     "id": "6626831/26I8EKBG",
     "language": "en-US",
     "title": "Forget the iPhone X, Apple's Best Product Is Something You Can't Buy",
     "type": "article-magazine"
    }
   }
  },
  "kernelspec": {
   "display_name": "Octave",
   "language": "octave",
   "name": "octave"
  },
  "language_info": {
   "file_extension": ".m",
   "help_links": [
    {
     "text": "GNU Octave",
     "url": "https://www.gnu.org/software/octave/support.html"
    },
    {
     "text": "Octave Kernel",
     "url": "https://github.com/Calysto/octave_kernel"
    },
    {
     "text": "MetaKernel Magics",
     "url": "https://github.com/calysto/metakernel/blob/master/metakernel/magics/README.md"
    }
   ],
   "mimetype": "text/x-octave",
   "name": "octave",
   "version": "4.4.0"
  },
  "toc-autonumbering": false,
  "toc-showmarkdowntxt": false
 },
 "nbformat": 4,
 "nbformat_minor": 2
}
