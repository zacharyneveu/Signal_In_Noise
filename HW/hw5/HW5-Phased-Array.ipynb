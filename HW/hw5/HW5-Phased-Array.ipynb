{
 "cells": [
  {
   "cell_type": "markdown",
   "metadata": {},
   "source": [
    "# Homework 5"
   ]
  },
  {
   "cell_type": "markdown",
   "metadata": {},
   "source": [
    "Averaging multiple copies of a signal in the presence of different realizations of noise can improve the SNR, and thus accuracy of detecting a signal.  In real world situations, it is often impossible to get identical copies of the signal, but it is quite possible to get similar copies where the difference between observations is known.  One of the most common ways to achieve this is to use a line array of sensors.  If the signal is assumed to be propagating as a plane wave, the time of arrival at each sensor will differ only by a constant.  Accounting for these time delays, it is then possible to combine identical signals with different noise realizations, yielding a higher SNR."
   ]
  },
  {
   "cell_type": "markdown",
   "metadata": {},
   "source": [
    "## 1. \n",
    "$$ f_0(\\pmb{y}) = \\frac{1}{\\sqrt{det(2\\sigma_{Z_i}^2)}}e^{-\\pmb{y}'\\pmb{y}}$$\n",
    "$$ f_1(\\pmb{y}) = \\frac{1}{\\sqrt{det(2\\sigma_{Z_i}^2)}}e^{-(\\pmb{y}-A\\pmb{s})'(\\pmb{y}-A\\pmb{s})}$$"
   ]
  },
  {
   "cell_type": "markdown",
   "metadata": {},
   "source": [
    "## 2.\n",
    "$$\\frac{f_1(\\pmb{y})}{f_0(\\pmb{y})} = \\frac{e^{-(\\pmb{y}-A\\pmb{s})'(\\pmb{y}-A\\pmb{s})}}{e^{-\\pmb{y}'\\pmb{y}}} \\gtrless \\eta$$"
   ]
  },
  {
   "cell_type": "markdown",
   "metadata": {},
   "source": [
    "## 3.\n",
    "$$ln(\\eta) \\gtrless -(\\pmb{y}-A\\pmb{s})'(\\pmb{y}-A\\pmb{s})+y'y$$\n",
    "$$ln(\\eta) \\gtrless -\\pmb{y}'\\pmb{y}+\\pmb{y}'A\\pmb{s}+A\\pmb{s}'\\pmb{y}-A^2\\pmb{s}'\\pmb{s}$$\n",
    "$$A[\\pmb{y}'\\pmb{s} + \\pmb{s}'\\pmb{y}] \\gtrless A^2\\pmb{s}'\\pmb{s} + ln(\\eta)$$\n",
    "\n",
    "$\\pmb{y's}$ and $\\pmb{s'y}$ are complex conjugates if $s$ and $y$ are complex, so $\\pmb{y's+s'y = 2Re(y's)}$  \n",
    "$\\pmb{(y's)' = s'y}$ and $\\pmb{y's}$ is a scalar, so it is valid to write\n",
    "\n",
    "$$Re(A\\pmb{s}'\\pmb{y}) \\gtrless \\frac{1}{2}A\\pmb{s}'C_z^{-1}A\\pmb{s} + ln(\\eta)$$\n",
    "\n",
    "It is convenient to remove the real constant $A$ from the left side of the equation and divide by the number of sensors so that the combined measurement is on the same scale as an individual observation.  Doing this yields\n",
    "\n",
    "$$\\frac{1}{M} Re(\\pmb{s'y}) \\gtrless \\gamma$$"
   ]
  },
  {
   "cell_type": "markdown",
   "metadata": {},
   "source": [
    "## 4.\n",
    "$\\frac{1}{M}Re(\\pmb{s'y})$ is a normal distribution described by \n",
    "$$\n",
    "\\frac{1}{M}Re(\\pmb{s'y}) =\n",
    "\\begin{cases}\n",
    "\\mathcal{CN}\\big(0, \\frac{\\sigma_{Z_i}}{2M}\\big) & \\pmb{y=z} \\\\\n",
    "\\mathcal{CN}\\big(A, \\frac{\\sigma_{Z_i}}{2M}\\big) & \\pmb{y}=A+\\pmb{z}\n",
    "\\end{cases}\n",
    "$$\n",
    "To find $\\gamma$, we must calculate the area under the right tail of this distribution when $\\pmb{y=z}$.\n",
    "$$\\gamma = \\sqrt{\\frac{\\sigma_{Z_i}^2}{2M}}Q(P_{FA}^*)$$"
   ]
  },
  {
   "cell_type": "markdown",
   "metadata": {},
   "source": [
    "## 5."
   ]
  },
  {
   "cell_type": "code",
   "execution_count": 12,
   "metadata": {},
   "outputs": [],
   "source": [
    "pkg load statistics\n",
    "pkg load communications"
   ]
  },
  {
   "cell_type": "code",
   "execution_count": 13,
   "metadata": {},
   "outputs": [],
   "source": [
    "load hwk5.mat"
   ]
  },
  {
   "cell_type": "code",
   "execution_count": 14,
   "metadata": {},
   "outputs": [],
   "source": [
    "function retval = lin_arr_det(vecs, angle, distance, wavelength, noise_var,  pfamax)\n",
    "    M = size(vecs)(1);\n",
    "    phi = 2*pi*distance/wavelength * sind(angle);\n",
    "    s = exp(-i .* (0:M-1)' .* phi);\n",
    "    newvar = sqrt(noise_var / (2*M));\n",
    "    thresh = newvar * qfuncinv(pfamax);\n",
    "    retval = real(s'*vecs)/M > thresh;\n",
    "end"
   ]
  },
  {
   "cell_type": "code",
   "execution_count": 15,
   "metadata": {},
   "outputs": [
    {
     "name": "stdout",
     "output_type": "stream",
     "text": [
      "ans =  107\n"
     ]
    }
   ],
   "source": [
    "res = find(lin_arr_det(thousand_vectors_y, 20, 1, 2, 1, 0.1));\n",
    "size(res)(2)"
   ]
  },
  {
   "cell_type": "markdown",
   "metadata": {},
   "source": [
    "The above code finds 107 detections.  The $10\\%$ false alarm rate specified should give about 100 detections, so assuming the signal is rarely present 107 detections sounds plausible."
   ]
  },
  {
   "cell_type": "markdown",
   "metadata": {},
   "source": [
    "## 6."
   ]
  },
  {
   "cell_type": "code",
   "execution_count": 23,
   "metadata": {},
   "outputs": [
    {
     "name": "stdout",
     "output_type": "stream",
     "text": [
      "148 Correctly Detected\n",
      "607 Missed Detection\n",
      "624 Correctly Detected\n",
      "626 Correctly Detected\n",
      "645 Correctly Detected\n",
      "711 Missed Detection\n",
      "727 Correctly Detected\n",
      "780 Correctly Detected\n",
      "cd =  6\n",
      "md =  2\n"
     ]
    }
   ],
   "source": [
    "truth = [148 607 624 626 645 711 727 780];\n",
    "function [cd, md] = inres(x, res)\n",
    "    cd = 0;\n",
    "    for k=x\n",
    "        if sum(ismember(res, k)) ==1\n",
    "            fprintf(\"%d Correctly Detected\\n\", k);\n",
    "            cd += 1;\n",
    "        else\n",
    "            fprintf(\"%d Missed Detection\\n\", k);\n",
    "        end\n",
    "    end\n",
    "    md = size(x)(2) - cd;\n",
    "end\n",
    "\n",
    "[cd, md] = inres(truth, res)"
   ]
  },
  {
   "cell_type": "markdown",
   "metadata": {},
   "source": [
    "The model correctly classified 6 out of the 8 signals.  Missed detections occurred at samples 607 and 711."
   ]
  }
 ],
 "metadata": {
  "kernelspec": {
   "display_name": "Octave",
   "language": "octave",
   "name": "octave"
  },
  "language_info": {
   "file_extension": ".m",
   "help_links": [
    {
     "text": "GNU Octave",
     "url": "https://www.gnu.org/software/octave/support.html"
    },
    {
     "text": "Octave Kernel",
     "url": "https://github.com/Calysto/octave_kernel"
    },
    {
     "text": "MetaKernel Magics",
     "url": "https://github.com/calysto/metakernel/blob/master/metakernel/magics/README.md"
    }
   ],
   "mimetype": "text/x-octave",
   "name": "octave",
   "version": "4.4.0"
  }
 },
 "nbformat": 4,
 "nbformat_minor": 2
}
