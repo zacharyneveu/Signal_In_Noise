{
 "cells": [
  {
   "cell_type": "markdown",
   "metadata": {},
   "source": [
    "# Homework 1\n",
    "## Detection of Signals in Noise EECE4688"
   ]
  },
  {
   "cell_type": "markdown",
   "metadata": {},
   "source": [
    "### Useful Formulas"
   ]
  },
  {
   "cell_type": "markdown",
   "metadata": {},
   "source": [
    "`Q -> qfunc()`  \n",
    "$A = \\sqrt{SNR} * \\sigma_z = \\sqrt{SNR}$ if $\\sigma_z == 1$  \n",
    "$SNR_{dB} = 10 \\log{10}{SNR}$  \n",
    "$SNR = 10^{\\frac{SNR_{dB}}{10}}$"
   ]
  },
  {
   "cell_type": "markdown",
   "metadata": {},
   "source": [
    "## Generate Gaussian Noise w/ 50% Chance of Signal\n",
    "! dB input, should output also be in DB??"
   ]
  },
  {
   "cell_type": "code",
   "execution_count": 11,
   "metadata": {},
   "outputs": [
    {
     "data": {
      "text/plain": [
       "generate (generic function with 1 method)"
      ]
     },
     "execution_count": 11,
     "metadata": {},
     "output_type": "execute_result"
    }
   ],
   "source": [
    "function generate(SNRdB)\n",
    "    SNR = 10 ^ (SNRdB / 10)\n",
    "    A = sqrt(SNR)\n",
    "    z = randn(1, 1)\n",
    "    make_sig = rand(1) > 0.7 ? 1 : 0\n",
    "    if make_sig\n",
    "        y = z + A;\n",
    "    else\n",
    "        y = z;\n",
    "    end\n",
    "    return make_sig, y\n",
    "end"
   ]
  },
  {
   "cell_type": "markdown",
   "metadata": {},
   "source": [
    "## Determine whether or not signal detected"
   ]
  },
  {
   "cell_type": "code",
   "execution_count": 4,
   "metadata": {},
   "outputs": [
    {
     "data": {
      "text/plain": [
       "predict (generic function with 1 method)"
      ]
     },
     "execution_count": 4,
     "metadata": {},
     "output_type": "execute_result"
    }
   ],
   "source": [
    "function predict(sample, SNR)\n",
    "    A = sqrt(SNR);\n",
    "    if sample > SNR / 2\n",
    "        y = 1;\n",
    "    else\n",
    "        y = 0;\n",
    "    end\n",
    "    return y\n",
    "end"
   ]
  },
  {
   "cell_type": "markdown",
   "metadata": {},
   "source": [
    "# Generate and Detect at various SNR"
   ]
  },
  {
   "cell_type": "code",
   "execution_count": 18,
   "metadata": {},
   "outputs": [
    {
     "ename": "MethodError",
     "evalue": "MethodError: no method matching isless(::Float64, ::Array{Float64,1})\nClosest candidates are:\n  isless(::Float64, !Matched::Float64) at float.jl:459\n  isless(!Matched::Missing, ::Any) at missing.jl:66\n  isless(::AbstractFloat, !Matched::AbstractFloat) at operators.jl:148\n  ...",
     "output_type": "error",
     "traceback": [
      "MethodError: no method matching isless(::Float64, ::Array{Float64,1})\nClosest candidates are:\n  isless(::Float64, !Matched::Float64) at float.jl:459\n  isless(!Matched::Missing, ::Any) at missing.jl:66\n  isless(::AbstractFloat, !Matched::AbstractFloat) at operators.jl:148\n  ...",
      "",
      "Stacktrace:",
      " [1] <(::Float64, ::Array{Float64,1}) at ./operators.jl:260",
      " [2] >(::Array{Float64,1}, ::Float64) at ./operators.jl:286",
      " [3] generate(::Int64) at ./In[11]:5",
      " [4] top-level scope at ./In[18]:7"
     ]
    }
   ],
   "source": [
    "pct_correct = zeros(16, 1);\n",
    "SNRS = 0:30;\n",
    "for it=1:length(SNRS)\n",
    "    num_correct = 0;\n",
    "    num_trials = 10000;\n",
    "    for i=collect(0:num_trials)\n",
    "        truth, s = generate(SNRS[it]);\n",
    "        guess = predict(s, SNRS[it]);\n",
    "        if truth == guess\n",
    "            num_correct += 1;\n",
    "        end\n",
    "    end\n",
    "    pct_correct[it] = num_correct / num_trials;\n",
    "end\n",
    "\n",
    "pct_correct"
   ]
  },
  {
   "cell_type": "code",
   "execution_count": 20,
   "metadata": {},
   "outputs": [
    {
     "name": "stdout",
     "output_type": "stream",
     "text": [
      "warning: the 'qfunc' function belongs to the communications package from Octave\n",
      "Forge which seems to not be installed in your system.\n",
      "\n",
      "Please read <http://www.octave.org/missing.html> to learn how you can\n",
      "contribute missing functionality.\n",
      "error: 'qfunc' undefined near line 1 column 15\n"
     ]
    }
   ],
   "source": [
    "theoretical = qfunc(0.5 * SNRS)"
   ]
  },
  {
   "cell_type": "code",
   "execution_count": null,
   "metadata": {},
   "outputs": [],
   "source": [
    "pkg install -forge -verbose communications"
   ]
  },
  {
   "cell_type": "code",
   "execution_count": null,
   "metadata": {},
   "outputs": [],
   "source": [
    "version"
   ]
  },
  {
   "cell_type": "code",
   "execution_count": null,
   "metadata": {},
   "outputs": [],
   "source": [
    "pkg install -forge control, signal"
   ]
  },
  {
   "cell_type": "code",
   "execution_count": 19,
   "metadata": {},
   "outputs": [
    {
     "data": {
      "image/png": "[encoded data removed]",
      "text/plain": [
       "<IPython.core.display.Image object>"
      ]
     },
     "metadata": {},
     "output_type": "display_data"
    }
   ],
   "source": [
    "figure\n",
    "semilogy(SNRS, pct_correct)\n",
    "xlabel('SNR (dB)')\n",
    "ylabel('Probability of Correct')"
   ]
  },
  {
   "cell_type": "code",
   "execution_count": null,
   "metadata": {},
   "outputs": [],
   "source": []
  }
 ],
 "metadata": {
  "kernelspec": {
   "display_name": "Julia 1.0.3",
   "language": "julia",
   "name": "julia-1.0"
  },
  "language_info": {
   "file_extension": ".jl",
   "mimetype": "application/julia",
   "name": "julia",
   "version": "1.0.3"
  }
 },
 "nbformat": 4,
 "nbformat_minor": 2
}
