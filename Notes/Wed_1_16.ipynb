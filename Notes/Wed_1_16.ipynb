{
 "cells": [
  {
   "cell_type": "markdown",
   "metadata": {},
   "source": [
    "## Detection between 2 noise sources"
   ]
  },
  {
   "cell_type": "markdown",
   "metadata": {},
   "source": [
    "Useful when signal is somewhat gaussian!"
   ]
  },
  {
   "cell_type": "markdown",
   "metadata": {},
   "source": [
    "$H_0 = z_0 ~N(0,\\sigma_0^2)$  \n",
    "$H_1 = z_1 ~N(0,\\sigma_1^2)$  "
   ]
  },
  {
   "cell_type": "markdown",
   "metadata": {},
   "source": [
    "$ML =  \\abs{y} <> \\gamma = \\sqrt{"
   ]
  },
  {
   "cell_type": "markdown",
   "metadata": {},
   "source": [
    "$p_{fa} = P(z_o) > \\gamma = 2Q(\\frac{\\gamma}{\\sigma_0}) == P_{cd}$  \n",
    "$P_{fa} = P(z_0^2 > \\gamma^2)$ - use next couple lines to find pdf of squared gaussian"
   ]
  },
  {
   "cell_type": "markdown",
   "metadata": {},
   "source": [
    "P_{cd} = "
   ]
  },
  {
   "cell_type": "markdown",
   "metadata": {},
   "source": [
    "$X ~f_x(x)$  \n",
    "$Y = g(x)$  \n",
    "$P(Y in \\Delta(y) = P(X in \\Delta(x_1) + P(x in \\Delta(x_1))$  \n",
    "$f_y(y) = \\frac{f_x(x_1)}{\\frac{\\Delta y}{\\Delta x}}+\\frac{f_x(x_2)}{\\frac{\\Delta y}{\\Delta x}}$  \n",
    "$\\frac{dy}{dx} |_{x=x_1}$ and $\\frac{dy}{dx} |_{x=x_2}$  "
   ]
  },
  {
   "cell_type": "markdown",
   "metadata": {},
   "source": [
    "Good, but really was looking for $|\\Delta x|$, so use $|\\frac{dy}{dx}|$"
   ]
  },
  {
   "cell_type": "code",
   "execution_count": 7,
   "metadata": {},
   "outputs": [],
   "source": [
    "gaus = randn(100, 1);"
   ]
  },
  {
   "cell_type": "code",
   "execution_count": 8,
   "metadata": {},
   "outputs": [],
   "source": [
    "gausquare = gaus.^2;"
   ]
  },
  {
   "cell_type": "code",
   "execution_count": 10,
   "metadata": {},
   "outputs": [
    {
     "data": {
      "image/png": "[encoded data removed]",
      "text/plain": [
       "<IPython.core.display.Image object>"
      ]
     },
     "metadata": {},
     "output_type": "display_data"
    }
   ],
   "source": [
    "figure\n",
    "plot(gaus)\n",
    "hold on\n",
    "plot(gausquare)"
   ]
  },
  {
   "cell_type": "markdown",
   "metadata": {},
   "source": [
    "# Maximum A-Posteriori Detection (Bayesian) (MAP)"
   ]
  },
  {
   "cell_type": "markdown",
   "metadata": {},
   "source": [
    "$H_0: Y~f_0(y) = f_{Y|H_0}(y|H_0)$  \n",
    "$H_1: Y~f_1(y) = f_{Y|H_1}(y|H_1)$  "
   ]
  },
  {
   "cell_type": "markdown",
   "metadata": {},
   "source": [
    "Write conditional probability in terms of Bayes' Theorem"
   ]
  },
  {
   "cell_type": "markdown",
   "metadata": {},
   "source": [
    "$H_0: Y~f_0(y) = f_{Y|H_0}(y|H_0) = \\frac{f_{y|H_1}(y|H_1)*P(H_1)}{f_Y(y)}$  \n",
    "$H_1: Y~f_1(y) = f_{Y|H_1}(y|H_1) = \\frac{f_{y|H_1}(y|H_1)*P(H_1)}{f_Y(y)}$  "
   ]
  },
  {
   "cell_type": "markdown",
   "metadata": {},
   "source": [
    "MAP:\n",
    "$ \\frac{f_1(y)}{f_0(y)} >< \\frac{P_0}{P_1} $"
   ]
  },
  {
   "cell_type": "markdown",
   "metadata": {},
   "source": [
    "ML: $\\frac{f_1(y)}{f_0(y)} >< 1$"
   ]
  },
  {
   "cell_type": "markdown",
   "metadata": {},
   "source": [
    "With Gaussian noise z:  \n",
    "$H_0: Y=z$  \n",
    "$H_1: Y=A+z$  \n",
    "Do out the exponentials for $f_0$ and $f_1$ as normal distributions, simplify to get\n",
    "MAP: $y >< \\frac{A}{2} + \\frac{\\sigma_2^2}{A}*ln(\\frac{P_0}{P_1})$\n"
   ]
  },
  {
   "cell_type": "markdown",
   "metadata": {},
   "source": [
    "What does the extra $\\frac{P_0}{P_1}$ term buy us?  \n",
    "$P_{fa} = P(Y > \\gamma | Y=z) = P(z > \\gamma) = Q(\\frac{\\gamma}{\\sigma_2})$  \n",
    "$P_{cd} = 1 - Q(\\frac{A-\\gamma}{\\sigma_2})$  \n",
    "$\\gamma$ known, plug in to get $ Q(\\frac{\\frac{A}{2}+\\frac{\\sigma_2^2}{A^2}*ln(\\frac{P_0}{P_1})}{\\sigma^2}) = Q(\\frac{A}{2\\sigma_z}+\\frac{\\sigma_2}{A}*ln(\\frac{P_0}{P_1}))$"
   ]
  },
  {
   "cell_type": "markdown",
   "metadata": {},
   "source": [
    "$P_e = P_0*P_{fa} + P_1*P_{md}$"
   ]
  },
  {
   "cell_type": "code",
   "execution_count": 17,
   "metadata": {},
   "outputs": [],
   "source": [
    "pkg load communications"
   ]
  },
  {
   "cell_type": "code",
   "execution_count": null,
   "metadata": {},
   "outputs": [
    {
     "name": "stdout",
     "output_type": "stream",
     "text": [
      "ans = -0.70819\n",
      "pfa =\n",
      "\n",
      "   0\n",
      "   0\n",
      "   0\n",
      "   0\n",
      "   0\n",
      "   0\n",
      "   0\n",
      "   0\n",
      "   0\n",
      "   0\n",
      "   0\n",
      "   0\n",
      "   0\n",
      "   0\n",
      "   0\n",
      "   0\n",
      "   0\n",
      "   0\n",
      "   0\n",
      "   0\n",
      "   0\n",
      "   0\n",
      "   0\n",
      "   0\n",
      "   0\n",
      "   0\n",
      "   0\n",
      "   0\n",
      "   0\n",
      "   0\n",
      "   0\n",
      "   0\n",
      "   0\n",
      "   0\n",
      "   0\n",
      "   0\n",
      "   0\n",
      "   0\n",
      "   0\n",
      "   0\n",
      "   0\n",
      "   0\n",
      "   0\n",
      "   0\n",
      "   0\n",
      "   0\n",
      "   0\n",
      "   0\n",
      "   0\n",
      "   0\n",
      "   0\n",
      "   0\n",
      "   0\n",
      "   0\n",
      "   0\n",
      "   0\n",
      "   0\n",
      "   0\n",
      "   0\n",
      "   0\n",
      "   0\n",
      "   0\n",
      "   0\n",
      "   0\n",
      "   0\n",
      "   0\n",
      "   0\n",
      "   0\n",
      "   0\n",
      "   0\n",
      "   0\n",
      "   0\n",
      "   0\n",
      "   0\n",
      "   0\n",
      "   0\n",
      "   0\n",
      "   0\n",
      "   0\n",
      "   0\n",
      "   0\n",
      "   0\n",
      "   0\n",
      "   0\n",
      "   0\n",
      "   0\n",
      "   0\n",
      "   0\n",
      "   0\n",
      "   0\n",
      "   0\n",
      "   0\n",
      "   0\n",
      "   0\n",
      "   0\n",
      "   0\n",
      "   0\n",
      "   0\n",
      "   0\n",
      "   0\n",
      "\n",
      "count =  1\n"
     ]
    }
   ],
   "source": [
    "A = 2;\n",
    "sigmaz = 1;\n",
    "P1 = 1-P0;\n",
    "log(P0/P1);\n",
    "pfa = zeros(100, 1);\n",
    "count = 1\n",
    "for P0=0:0.01:1\n",
    "    pfa(count) = qfunc((A/(2*sigmaz) + sigmaz*log(P0/P1))/sigmaz)\n",
    "plot(pfa)"
   ]
  }
 ],
 "metadata": {
  "kernelspec": {
   "display_name": "Octave",
   "language": "octave",
   "name": "octave"
  },
  "language_info": {
   "file_extension": ".m",
   "help_links": [
    {
     "text": "GNU Octave",
     "url": "https://www.gnu.org/software/octave/support.html"
    },
    {
     "text": "Octave Kernel",
     "url": "https://github.com/Calysto/octave_kernel"
    },
    {
     "text": "MetaKernel Magics",
     "url": "https://github.com/calysto/metakernel/blob/master/metakernel/magics/README.md"
    }
   ],
   "mimetype": "text/x-octave",
   "name": "octave",
   "version": "4.4.0"
  }
 },
 "nbformat": 4,
 "nbformat_minor": 2
}
