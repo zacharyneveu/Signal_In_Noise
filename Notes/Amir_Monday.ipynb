{
 "cells": [
  {
   "cell_type": "markdown",
   "metadata": {},
   "source": [
    "# Amir Class Notes"
   ]
  },
  {
   "cell_type": "markdown",
   "metadata": {},
   "source": [
    "## Control problem $\\rightarrow$ **y = Ax**  \n",
    "x is input vector, A is transform, Y is output vector"
   ]
  },
  {
   "cell_type": "markdown",
   "metadata": {},
   "source": [
    "### Estimation problem\n",
    "y is known measurement, A is known, what was x?"
   ]
  },
  {
   "cell_type": "markdown",
   "metadata": {},
   "source": [
    "## Mapping (Linear Transform)\n",
    "map $x \\rightarrow y=Ax$\n",
    "$$\\vec{x} \\rightarrow A\\vec{x}=\\vec{y}$$\n",
    "$$\\vec{x_1}+\\vec{x_2} \\rightarrow \\vec{y_1} + \\vec{y_2}$$\n",
    "$$ \\alpha \\vec{x} \\rightarrow \\alpha \\vec{y_1} $$"
   ]
  },
  {
   "cell_type": "code",
   "execution_count": 5,
   "metadata": {},
   "outputs": [
    {
     "data": {
      "text/plain": [
       "2-element Array{Int64,1}:\n",
       " -2\n",
       "  2"
      ]
     },
     "execution_count": 5,
     "metadata": {},
     "output_type": "execute_result"
    }
   ],
   "source": [
    "A = [1 3; 3 1]\n",
    "x1 = [1; 1]\n",
    "x2 = [1; -1]\n",
    "A*x1\n",
    "A*x2"
   ]
  },
  {
   "cell_type": "markdown",
   "metadata": {},
   "source": [
    "$\\vec{x_1}$ and $\\vec{x_2}$ are orthagonal.  $\\vec{x_1}'\\vec{x_2} = 0$.  Any vector on the plane representable as a linear combination of $\\vec{x_1}$ and $\\vec{x_2}$  \n",
    "$$\\vec{x_n} = \\alpha \\vec{x_1} + \\beta \\vec{x_2}$$\n",
    "Very similar to to LTI systems! Scalar transforms, linear combinations."
   ]
  },
  {
   "cell_type": "markdown",
   "metadata": {},
   "source": [
    "Any n linear, independent vecs. can describe any point in n dimensional space.  \n",
    "Singular matrix - determinant is 0 -> cols not linearly independent."
   ]
  },
  {
   "cell_type": "code",
   "execution_count": 38,
   "metadata": {},
   "outputs": [],
   "source": [
    "using Distributions\n",
    "using LinearAlgebra\n",
    "using Plots"
   ]
  },
  {
   "cell_type": "code",
   "execution_count": 39,
   "metadata": {},
   "outputs": [
    {
     "data": {
      "text/plain": [
       "generateGaussianSamples (generic function with 2 methods)"
      ]
     },
     "execution_count": 39,
     "metadata": {},
     "output_type": "execute_result"
    }
   ],
   "source": [
    "function generateGaussianSamples(μ, σ, nSamples)\n",
    "    dist = MvNormal(μ, σ)\n",
    "    samples = [rand(dist, 1) for i in 1:nSamples]\n",
    "        samps2d = zeros(nSamples, 2)\n",
    "        for i in 1:nSamples\n",
    "            samps2d[i,:] = samples[i]\n",
    "        end\n",
    "    return samples \n",
    "end"
   ]
  },
  {
   "cell_type": "code",
   "execution_count": 46,
   "metadata": {},
   "outputs": [
    {
     "ename": "BoundsError",
     "evalue": "BoundsError: attempt to access 500-element Array{Array{Float64,2},1} at index [Base.Slice(Base.OneTo(500)), 2]",
     "output_type": "error",
     "traceback": [
      "BoundsError: attempt to access 500-element Array{Array{Float64,2},1} at index [Base.Slice(Base.OneTo(500)), 2]",
      "",
      "Stacktrace:",
      " [1] throw_boundserror(::Array{Array{Float64,2},1}, ::Tuple{Base.Slice{Base.OneTo{Int64}},Int64}) at ./abstractarray.jl:484",
      " [2] checkbounds at ./abstractarray.jl:449 [inlined]",
      " [3] _getindex at ./multidimensional.jl:596 [inlined]",
      " [4] getindex(::Array{Array{Float64,2},1}, ::Function, ::Int64) at ./abstractarray.jl:905",
      " [5] top-level scope at In[46]:5"
     ]
    }
   ],
   "source": [
    "Σ = [1. 3.; 3. 1.]\n",
    "μ = [1.; 1.]\n",
    "Σ = Matrix(I, 2, 2)\n",
    "points  = generateGaussianSamples(μ, Σ, 500)\n",
    "scatter(points[:,1], points[:,2])"
   ]
  },
  {
   "cell_type": "code",
   "execution_count": 47,
   "metadata": {},
   "outputs": [
    {
     "data": {
      "text/plain": [
       "500-element Array{Array{Float64,2},1}:\n",
       " [0.342958; 0.776841] \n",
       " [1.2551; -0.730104]  \n",
       " [-0.352797; 0.581083]\n",
       " [0.858202; 0.0635551]\n",
       " [-0.00512199; 1.2924]\n",
       " [0.985793; -0.520256]\n",
       " [1.32559; 0.646611]  \n",
       " [0.544909; 0.946674] \n",
       " [0.818847; 2.50122]  \n",
       " [1.24975; 2.28775]   \n",
       " [-0.598215; 2.21974] \n",
       " [1.00532; 1.14104]   \n",
       " [1.4179; -0.0830149] \n",
       " ⋮                    \n",
       " [0.701275; -0.794283]\n",
       " [0.339901; 1.5863]   \n",
       " [1.39936; 1.5287]    \n",
       " [0.810542; 1.28103]  \n",
       " [2.21545; 2.58917]   \n",
       " [0.8454; -0.422017]  \n",
       " [0.88943; 0.619659]  \n",
       " [0.190697; 0.100159] \n",
       " [1.82458; 1.7061]    \n",
       " [1.67939; 1.6115]    \n",
       " [0.938756; 2.63775]  \n",
       " [1.90106; 1.07757]   "
      ]
     },
     "execution_count": 47,
     "metadata": {},
     "output_type": "execute_result"
    }
   ],
   "source": [
    "points"
   ]
  },
  {
   "cell_type": "markdown",
   "metadata": {},
   "source": [
    "$$A = [a b; c d] \\rightarrow A^{-1} = \\frac{1}{ad-bc}[d -b; -c a]$$"
   ]
  },
  {
   "cell_type": "code",
   "execution_count": null,
   "metadata": {},
   "outputs": [],
   "source": []
  }
 ],
 "metadata": {
  "kernelspec": {
   "display_name": "Julia 1.0.3",
   "language": "julia",
   "name": "julia-1.0"
  },
  "language_info": {
   "file_extension": ".jl",
   "mimetype": "application/julia",
   "name": "julia",
   "version": "1.0.3"
  }
 },
 "nbformat": 4,
 "nbformat_minor": 2
}
