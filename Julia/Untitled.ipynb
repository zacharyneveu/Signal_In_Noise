{
 "cells": [
  {
   "cell_type": "code",
   "execution_count": 1,
   "metadata": {},
   "outputs": [
    {
     "data": {
      "text/plain": [
       "10×10 Array{Float64,2}:\n",
       "  0.590852   -0.595905   -1.64216    …   0.5037      0.772937     0.257816\n",
       " -1.03803    -0.0847757   1.81565        0.444742    0.0576333   -1.25566 \n",
       " -2.03718     1.30604    -0.704424      -0.347768    1.11777      0.14031 \n",
       " -0.760926   -1.78079     0.219881       0.690622   -1.70279      0.36043 \n",
       "  0.22473    -0.399378    0.0763074     -0.418065    0.565389    -1.13246 \n",
       "  0.617806   -0.535264   -0.395972   …  -1.55474     0.123344     0.343164\n",
       " -0.0712679  -0.390812   -0.703298       0.159778   -0.680746     0.529241\n",
       " -3.09335    -0.314676    0.761996      -0.0394332  -0.00360699   0.679171\n",
       "  0.347192   -0.107825    0.326087       0.40924     0.91708      0.661406\n",
       "  1.92285    -0.199077   -0.756101      -1.7724     -0.121167     0.517302"
      ]
     },
     "execution_count": 1,
     "metadata": {},
     "output_type": "execute_result"
    }
   ],
   "source": [
    "α = randn(10, 10)"
   ]
  },
  {
   "cell_type": "code",
   "execution_count": 2,
   "metadata": {},
   "outputs": [
    {
     "data": {
      "text/plain": [
       "10×10 Array{Float64,2}:\n",
       " 0.46924   0.368412  0.779173  0.472801  …  0.792432  0.00333245  0.466808\n",
       " 0.443735  0.824979  0.295608  0.916498     0.790209  0.321493    0.760282\n",
       " 0.251515  0.815363  0.867239  0.34388      0.624777  0.640734    0.68597 \n",
       " 0.3642    0.35634   0.41577   0.699399     0.169187  0.930664    0.541048\n",
       " 0.43551   0.354567  0.80799   0.772595     0.259339  0.867042    0.479271\n",
       " 0.995234  0.480427  0.637035  0.713147  …  0.627892  0.276067    0.685976\n",
       " 0.180948  0.850064  0.51619   0.378025     0.753858  0.91737     0.730857\n",
       " 0.498959  0.97413   0.151188  0.21579      0.106262  0.789391    0.283854\n",
       " 0.129087  0.944301  0.732313  0.818492     0.992865  0.147496    0.314471\n",
       " 0.88286   0.333623  0.289821  0.376744     0.962633  0.241156    0.645565"
      ]
     },
     "execution_count": 2,
     "metadata": {},
     "output_type": "execute_result"
    }
   ],
   "source": [
    "β = rand(10, 10)"
   ]
  },
  {
   "cell_type": "code",
   "execution_count": 3,
   "metadata": {},
   "outputs": [
    {
     "data": {
      "text/plain": [
       "10×10 Array{Complex{Float64},2}:\n",
       "   0.590852+0.46924im    -0.595905+0.368412im  …  0.257816+0.466808im\n",
       "   -1.03803+0.443735im  -0.0847757+0.824979im     -1.25566+0.760282im\n",
       "   -2.03718+0.251515im     1.30604+0.815363im      0.14031+0.68597im \n",
       "  -0.760926+0.3642im      -1.78079+0.35634im       0.36043+0.541048im\n",
       "    0.22473+0.43551im    -0.399378+0.354567im     -1.13246+0.479271im\n",
       "   0.617806+0.995234im   -0.535264+0.480427im  …  0.343164+0.685976im\n",
       " -0.0712679+0.180948im   -0.390812+0.850064im     0.529241+0.730857im\n",
       "   -3.09335+0.498959im   -0.314676+0.97413im      0.679171+0.283854im\n",
       "   0.347192+0.129087im   -0.107825+0.944301im     0.661406+0.314471im\n",
       "    1.92285+0.88286im    -0.199077+0.333623im     0.517302+0.645565im"
      ]
     },
     "execution_count": 3,
     "metadata": {},
     "output_type": "execute_result"
    }
   ],
   "source": [
    "θ = α + im*β"
   ]
  },
  {
   "cell_type": "code",
   "execution_count": 5,
   "metadata": {},
   "outputs": [
    {
     "data": {
      "text/plain": [
       "10×10 Array{Float64,2}:\n",
       " 0.754515  0.700592  1.81763   0.498335  …  0.938969  0.772944  0.533272\n",
       " 1.12889   0.829323  1.83955   0.932119     0.906766  0.326618  1.46789 \n",
       " 2.05265   1.53966   1.11728   1.94239      0.715044  1.28839   0.700173\n",
       " 0.843594  1.8161    0.470332  0.793845     0.711043  1.94053   0.650109\n",
       " 0.490074  0.534061  0.811585  3.16011      0.491971  1.0351    1.2297  \n",
       " 1.1714    0.719248  0.750071  0.752721  …  1.67674   0.302368  0.767023\n",
       " 0.194477  0.935598  0.872399  0.604554     0.770605  1.14236   0.902357\n",
       " 3.13333   1.02369   0.77685   0.691057     0.113343  0.789399  0.736103\n",
       " 0.370413  0.950437  0.801633  1.05106      1.0739    0.928865  0.732359\n",
       " 2.11585   0.388505  0.809744  0.399616     2.01694   0.269884  0.827258"
      ]
     },
     "execution_count": 5,
     "metadata": {},
     "output_type": "execute_result"
    }
   ],
   "source": [
    "abs.(θ)"
   ]
  },
  {
   "cell_type": "code",
   "execution_count": 9,
   "metadata": {},
   "outputs": [
    {
     "name": "stdout",
     "output_type": "stream",
     "text": [
      "\u001b[32m\u001b[1m  Updating\u001b[22m\u001b[39m registry at `~/.julia/registries/General`\n",
      "\u001b[32m\u001b[1m  Updating\u001b[22m\u001b[39m git-repo `https://github.com/JuliaRegistries/General.git`\n",
      "\u001b[?25l\u001b[2K\u001b[?25h\u001b[32m\u001b[1m Resolving\u001b[22m\u001b[39m package versions...\n",
      "\u001b[32m\u001b[1m Installed\u001b[22m\u001b[39m CMakeWrapper ──── v0.2.2\n",
      "\u001b[32m\u001b[1m Installed\u001b[22m\u001b[39m WinRPM ────────── v0.4.2\n",
      "\u001b[32m\u001b[1m Installed\u001b[22m\u001b[39m Libz ──────────── v1.0.0\n",
      "\u001b[32m\u001b[1m Installed\u001b[22m\u001b[39m CMake ─────────── v1.1.1\n",
      "\u001b[32m\u001b[1m Installed\u001b[22m\u001b[39m LibExpat ──────── v0.5.0\n",
      "\u001b[32m\u001b[1m Installed\u001b[22m\u001b[39m Homebrew ──────── v0.7.1\n",
      "\u001b[32m\u001b[1m Installed\u001b[22m\u001b[39m LibCURL ───────── v0.4.1\n",
      "\u001b[32m\u001b[1m Installed\u001b[22m\u001b[39m MAT ───────────── v0.5.0\n",
      "\u001b[32m\u001b[1m Installed\u001b[22m\u001b[39m HTTPClient ────── v0.2.1\n",
      "\u001b[32m\u001b[1m Installed\u001b[22m\u001b[39m BufferedStreams ─ v1.0.0\n",
      "\u001b[32m\u001b[1m Installed\u001b[22m\u001b[39m Blosc ─────────── v0.5.1\n",
      "\u001b[32m\u001b[1m Installed\u001b[22m\u001b[39m HDF5 ──────────── v0.11.0\n",
      "\u001b[32m\u001b[1m  Updating\u001b[22m\u001b[39m `~/.julia/environments/v1.0/Project.toml`\n",
      " \u001b[90m [23992714]\u001b[39m\u001b[92m + MAT v0.5.0\u001b[39m\n",
      "\u001b[32m\u001b[1m  Updating\u001b[22m\u001b[39m `~/.julia/environments/v1.0/Manifest.toml`\n",
      " \u001b[90m [a74b3585]\u001b[39m\u001b[92m + Blosc v0.5.1\u001b[39m\n",
      " \u001b[90m [e1450e63]\u001b[39m\u001b[92m + BufferedStreams v1.0.0\u001b[39m\n",
      " \u001b[90m [631607c0]\u001b[39m\u001b[92m + CMake v1.1.1\u001b[39m\n",
      " \u001b[90m [d5fb7624]\u001b[39m\u001b[92m + CMakeWrapper v0.2.2\u001b[39m\n",
      " \u001b[90m [f67ccb44]\u001b[39m\u001b[92m + HDF5 v0.11.0\u001b[39m\n",
      " \u001b[90m [0862f596]\u001b[39m\u001b[92m + HTTPClient v0.2.1\u001b[39m\n",
      " \u001b[90m [d9be37ee]\u001b[39m\u001b[92m + Homebrew v0.7.1\u001b[39m\n",
      " \u001b[90m [b27032c2]\u001b[39m\u001b[92m + LibCURL v0.4.1\u001b[39m\n",
      " \u001b[90m [522f3ed2]\u001b[39m\u001b[92m + LibExpat v0.5.0\u001b[39m\n",
      " \u001b[90m [2ec943e9]\u001b[39m\u001b[92m + Libz v1.0.0\u001b[39m\n",
      " \u001b[90m [23992714]\u001b[39m\u001b[92m + MAT v0.5.0\u001b[39m\n",
      " \u001b[90m [c17dfb99]\u001b[39m\u001b[92m + WinRPM v0.4.2\u001b[39m\n",
      " \u001b[90m [8bf52ea8]\u001b[39m\u001b[92m + CRC32c \u001b[39m\n",
      "\u001b[32m\u001b[1m  Building\u001b[22m\u001b[39m LibCURL ─→ `~/.julia/packages/LibCURL/OoXMv/deps/build.log`\n",
      "\u001b[32m\u001b[1m  Building\u001b[22m\u001b[39m WinRPM ──→ `~/.julia/packages/WinRPM/Y9QdZ/deps/build.log`\n",
      "\u001b[32m\u001b[1m  Building\u001b[22m\u001b[39m Homebrew → `~/.julia/packages/Homebrew/s09IX/deps/build.log`\n",
      "\u001b[32m\u001b[1m  Building\u001b[22m\u001b[39m CMake ───→ `~/.julia/packages/CMake/ZGawK/deps/build.log`\n",
      "\u001b[32m\u001b[1m  Building\u001b[22m\u001b[39m Blosc ───→ `~/.julia/packages/Blosc/lzFr0/deps/build.log`\n",
      "\u001b[32m\u001b[1m  Building\u001b[22m\u001b[39m HDF5 ────→ `~/.julia/packages/HDF5/H0XJB/deps/build.log`\n"
     ]
    }
   ],
   "source": [
    "using Pkg\n",
    "Pkg.add(\"MAT\")"
   ]
  },
  {
   "cell_type": "code",
   "execution_count": null,
   "metadata": {},
   "outputs": [],
   "source": [
    "using MAT"
   ]
  }
 ],
 "metadata": {
  "kernelspec": {
   "display_name": "Julia 1.0.3",
   "language": "julia",
   "name": "julia-1.0"
  },
  "language_info": {
   "file_extension": ".jl",
   "mimetype": "application/julia",
   "name": "julia",
   "version": "1.0.3"
  }
 },
 "nbformat": 4,
 "nbformat_minor": 2
}
