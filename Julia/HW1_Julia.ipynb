{
 "cells": [
  {
   "cell_type": "markdown",
   "metadata": {},
   "source": [
    "# Homework 1\n",
    "## Detection of Signals in Noise EECE4688"
   ]
  },
  {
   "cell_type": "markdown",
   "metadata": {},
   "source": [
    "### Useful Formulas"
   ]
  },
  {
   "cell_type": "markdown",
   "metadata": {},
   "source": [
    "`Q -> qfunc()`  \n",
    "$A = \\sqrt{SNR} * \\sigma_z = \\sqrt{SNR}$ if $\\sigma_z == 1$  \n",
    "$SNR_{dB} = 10 \\log{10}{SNR}$  \n",
    "$SNR = 10^{\\frac{SNR_{dB}}{10}}$"
   ]
  },
  {
   "cell_type": "markdown",
   "metadata": {},
   "source": [
    "## Generate Gaussian Noise w/ 50% Chance of Signal\n",
    "! dB input, should output also be in DB??"
   ]
  },
  {
   "cell_type": "code",
   "execution_count": 1,
   "metadata": {
    "code_folding": []
   },
   "outputs": [
    {
     "data": {
      "text/plain": [
       "generate (generic function with 1 method)"
      ]
     },
     "execution_count": 1,
     "metadata": {},
     "output_type": "execute_result"
    }
   ],
   "source": [
    "function generate(SNRdB)\n",
    "    SNR = 10 ^ (SNRdB / 10)\n",
    "    A = sqrt(SNR)\n",
    "    z = randn()\n",
    "    make_sig = rand() > 0.7\n",
    "    if make_sig\n",
    "        y = z + A;\n",
    "    else\n",
    "        y = z;\n",
    "    end\n",
    "    return make_sig, y\n",
    "end"
   ]
  },
  {
   "cell_type": "markdown",
   "metadata": {},
   "source": [
    "## Determine whether or not signal detected"
   ]
  },
  {
   "cell_type": "code",
   "execution_count": 2,
   "metadata": {},
   "outputs": [
    {
     "data": {
      "text/plain": [
       "predict (generic function with 1 method)"
      ]
     },
     "execution_count": 2,
     "metadata": {},
     "output_type": "execute_result"
    }
   ],
   "source": [
    "function predict(sample, SNR)\n",
    "    A = sqrt(SNR);\n",
    "    if sample > SNR / 2\n",
    "        y = 1;\n",
    "    else\n",
    "        y = 0;\n",
    "    end\n",
    "    return y\n",
    "end"
   ]
  },
  {
   "cell_type": "markdown",
   "metadata": {},
   "source": [
    "# Generate and Detect at various SNR"
   ]
  },
  {
   "cell_type": "code",
   "execution_count": 2,
   "metadata": {},
   "outputs": [
    {
     "ename": "UndefVarError",
     "evalue": "UndefVarError: predict not defined",
     "output_type": "error",
     "traceback": [
      "UndefVarError: predict not defined",
      "",
      "Stacktrace:",
      " [1] top-level scope at ./In[2]:8"
     ]
    }
   ],
   "source": [
    "SNRS = 0:30;\n",
    "pct_correct = zeros(length(SNRS), 1);\n",
    "for it=collect(1:length(SNRS))\n",
    "    num_correct = 0;\n",
    "    num_trials = 10000;\n",
    "    for i=collect(0:num_trials)\n",
    "        truth, s = generate(SNRS[it]);\n",
    "        guess = predict(s, SNRS[it]);\n",
    "        if truth == guess\n",
    "            num_correct += 1;\n",
    "        end\n",
    "    end\n",
    "    pct_correct[it] = num_correct / num_trials;\n",
    "end\n",
    "\n",
    "pct_correct"
   ]
  },
  {
   "cell_type": "code",
   "execution_count": 5,
   "metadata": {},
   "outputs": [],
   "source": [
    "using Distributions\n",
    "using "
   ]
  },
  {
   "cell_type": "code",
   "execution_count": 6,
   "metadata": {},
   "outputs": [
    {
     "ename": "UndefVarError",
     "evalue": "UndefVarError: qfunc not defined",
     "output_type": "error",
     "traceback": [
      "UndefVarError: qfunc not defined",
      "",
      "Stacktrace:",
      " [1] top-level scope at In[6]:1"
     ]
    }
   ],
   "source": [
    "theoretical = qfunc(0.5 * SNRS)"
   ]
  },
  {
   "cell_type": "code",
   "execution_count": null,
   "metadata": {},
   "outputs": [],
   "source": [
    "pkg install -forge -verbose communications"
   ]
  },
  {
   "cell_type": "code",
   "execution_count": null,
   "metadata": {},
   "outputs": [],
   "source": [
    "version"
   ]
  },
  {
   "cell_type": "code",
   "execution_count": null,
   "metadata": {},
   "outputs": [],
   "source": [
    "pkg install -forge control, signal"
   ]
  },
  {
   "cell_type": "code",
   "execution_count": 1,
   "metadata": {},
   "outputs": [
    {
     "ename": "UndefVarError",
     "evalue": "UndefVarError: figure not defined",
     "output_type": "error",
     "traceback": [
      "UndefVarError: figure not defined",
      "",
      "Stacktrace:",
      " [1] top-level scope at In[1]:1"
     ]
    }
   ],
   "source": [
    "figure\n",
    "semilogy(SNRS, pct_correct)\n",
    "xlabel('SNR (dB)')\n",
    "ylabel('Probability of Correct')"
   ]
  }
 ],
 "metadata": {
  "kernelspec": {
   "display_name": "Julia 1.0.3",
   "language": "julia",
   "name": "julia-1.0"
  },
  "language_info": {
   "file_extension": ".jl",
   "mimetype": "application/julia",
   "name": "julia",
   "version": "1.0.3"
  }
 },
 "nbformat": 4,
 "nbformat_minor": 2
}
